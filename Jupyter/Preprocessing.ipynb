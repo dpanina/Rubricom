{
 "cells": [
  {
   "cell_type": "code",
   "execution_count": 1,
   "id": "dressed-hunger",
   "metadata": {},
   "outputs": [],
   "source": [
    "import pandas as pd\n",
    "import os\n",
    "import matplotlib.pyplot as plt\n",
    "import numpy as np\n",
    "import re\n",
    "from PIL import Image\n",
    "\n",
    "from wordcloud import WordCloud\n",
    "import spacy\n",
    "from pymystem3 import Mystem\n",
    "from nltk.corpus import stopwords\n",
    "from sklearn.feature_extraction.text import TfidfVectorizer, CountVectorizer\n",
    "\n",
    "import string\n",
    "import warnings\n",
    "warnings.filterwarnings(\"ignore\", category=DeprecationWarning)"
   ]
  },
  {
   "cell_type": "markdown",
   "id": "jewish-consortium",
   "metadata": {
    "heading_collapsed": true
   },
   "source": [
    "# Downloads"
   ]
  },
  {
   "cell_type": "code",
   "execution_count": 2,
   "id": "independent-champagne",
   "metadata": {
    "hidden": true
   },
   "outputs": [
    {
     "data": {
      "text/html": [
       "<div>\n",
       "<style scoped>\n",
       "    .dataframe tbody tr th:only-of-type {\n",
       "        vertical-align: middle;\n",
       "    }\n",
       "\n",
       "    .dataframe tbody tr th {\n",
       "        vertical-align: top;\n",
       "    }\n",
       "\n",
       "    .dataframe thead th {\n",
       "        text-align: right;\n",
       "    }\n",
       "</style>\n",
       "<table border=\"1\" class=\"dataframe\">\n",
       "  <thead>\n",
       "    <tr style=\"text-align: right;\">\n",
       "      <th></th>\n",
       "      <th>file_name</th>\n",
       "    </tr>\n",
       "  </thead>\n",
       "  <tbody>\n",
       "    <tr>\n",
       "      <th>0</th>\n",
       "      <td>file_1957857_3090367_7986.jl</td>\n",
       "    </tr>\n",
       "    <tr>\n",
       "      <th>1</th>\n",
       "      <td>.DS_Store</td>\n",
       "    </tr>\n",
       "    <tr>\n",
       "      <th>2</th>\n",
       "      <td>file_2048814_3090367_7987.jl</td>\n",
       "    </tr>\n",
       "    <tr>\n",
       "      <th>3</th>\n",
       "      <td>file_1669220_3090367_7993.jl</td>\n",
       "    </tr>\n",
       "    <tr>\n",
       "      <th>4</th>\n",
       "      <td>file_1669220_3090367_7992.jl</td>\n",
       "    </tr>\n",
       "    <tr>\n",
       "      <th>5</th>\n",
       "      <td>file_1933818_3090367_4518.jl</td>\n",
       "    </tr>\n",
       "    <tr>\n",
       "      <th>6</th>\n",
       "      <td>file_2070949_3090367_3788.jl</td>\n",
       "    </tr>\n",
       "    <tr>\n",
       "      <th>7</th>\n",
       "      <td>file_1962566_3090367_4329.jl</td>\n",
       "    </tr>\n",
       "    <tr>\n",
       "      <th>8</th>\n",
       "      <td>file_1962712_3090367_3798.jl</td>\n",
       "    </tr>\n",
       "    <tr>\n",
       "      <th>9</th>\n",
       "      <td>file_11368336_455951711_249.jl</td>\n",
       "    </tr>\n",
       "    <tr>\n",
       "      <th>10</th>\n",
       "      <td>file_2056937_3090367_4578.jl</td>\n",
       "    </tr>\n",
       "    <tr>\n",
       "      <th>11</th>\n",
       "      <td>file_2010144_3090367_4255.jl</td>\n",
       "    </tr>\n",
       "    <tr>\n",
       "      <th>12</th>\n",
       "      <td>file_1888130_3090367_4520.jl</td>\n",
       "    </tr>\n",
       "  </tbody>\n",
       "</table>\n",
       "</div>"
      ],
      "text/plain": [
       "                         file_name\n",
       "0     file_1957857_3090367_7986.jl\n",
       "1                        .DS_Store\n",
       "2     file_2048814_3090367_7987.jl\n",
       "3     file_1669220_3090367_7993.jl\n",
       "4     file_1669220_3090367_7992.jl\n",
       "5     file_1933818_3090367_4518.jl\n",
       "6     file_2070949_3090367_3788.jl\n",
       "7     file_1962566_3090367_4329.jl\n",
       "8     file_1962712_3090367_3798.jl\n",
       "9   file_11368336_455951711_249.jl\n",
       "10    file_2056937_3090367_4578.jl\n",
       "11    file_2010144_3090367_4255.jl\n",
       "12    file_1888130_3090367_4520.jl"
      ]
     },
     "execution_count": 2,
     "metadata": {},
     "output_type": "execute_result"
    }
   ],
   "source": [
    "#show all files in the input directory\n",
    "arr = os.listdir('../input/')\n",
    "arr_df = pd.DataFrame(arr, columns = ['file_name'])\n",
    "arr_df"
   ]
  },
  {
   "cell_type": "code",
   "execution_count": 3,
   "id": "horizontal-valuation",
   "metadata": {
    "hidden": true
   },
   "outputs": [
    {
     "data": {
      "text/plain": [
       "'../input/file_1962712_3090367_3798.jl'"
      ]
     },
     "execution_count": 3,
     "metadata": {},
     "output_type": "execute_result"
    }
   ],
   "source": [
    "#Choose from the arr_df one file to analyze it (the result of parsing)\n",
    "\n",
    "file_index = 8\n",
    "#path = f'../input/file_7321705_455951711_124.jl'\n",
    "path = f\"../input/{arr_df['file_name'][file_index]}\"\n",
    "path"
   ]
  },
  {
   "cell_type": "code",
   "execution_count": 4,
   "id": "consistent-infrastructure",
   "metadata": {
    "hidden": true
   },
   "outputs": [
    {
     "name": "stdout",
     "output_type": "stream",
     "text": [
      "(174, 9)\n"
     ]
    },
    {
     "data": {
      "text/html": [
       "<div>\n",
       "<style scoped>\n",
       "    .dataframe tbody tr th:only-of-type {\n",
       "        vertical-align: middle;\n",
       "    }\n",
       "\n",
       "    .dataframe tbody tr th {\n",
       "        vertical-align: top;\n",
       "    }\n",
       "\n",
       "    .dataframe thead th {\n",
       "        text-align: right;\n",
       "    }\n",
       "</style>\n",
       "<table border=\"1\" class=\"dataframe\">\n",
       "  <thead>\n",
       "    <tr style=\"text-align: right;\">\n",
       "      <th></th>\n",
       "      <th>comment</th>\n",
       "      <th>date_time</th>\n",
       "      <th>color</th>\n",
       "      <th>size</th>\n",
       "      <th>thumb_up</th>\n",
       "      <th>thumb_down</th>\n",
       "      <th>prod_eval</th>\n",
       "      <th>prod</th>\n",
       "      <th>brand</th>\n",
       "    </tr>\n",
       "  </thead>\n",
       "  <tbody>\n",
       "    <tr>\n",
       "      <th>0</th>\n",
       "      <td>Кольцо очень нежное, красивое, блестит , перел...</td>\n",
       "      <td>2021-05-09T11:51:08Z</td>\n",
       "      <td>серебристый</td>\n",
       "      <td>16,5</td>\n",
       "      <td>1</td>\n",
       "      <td>0</td>\n",
       "      <td>5</td>\n",
       "      <td>кольцо</td>\n",
       "      <td>SOKOLOV</td>\n",
       "    </tr>\n",
       "    <tr>\n",
       "      <th>1</th>\n",
       "      <td>Хорошее колечко, получила 20 марта, ни один ка...</td>\n",
       "      <td>2021-04-20T09:13:31Z</td>\n",
       "      <td>серебристый</td>\n",
       "      <td>18</td>\n",
       "      <td>0</td>\n",
       "      <td>1</td>\n",
       "      <td>4</td>\n",
       "      <td>Кольцо</td>\n",
       "      <td>SOKOLOV</td>\n",
       "    </tr>\n",
       "    <tr>\n",
       "      <th>2</th>\n",
       "      <td>Пока все норм , камни на месте, милое колечко</td>\n",
       "      <td>2021-04-16T14:04:18Z</td>\n",
       "      <td>серебристый</td>\n",
       "      <td>17</td>\n",
       "      <td>1</td>\n",
       "      <td>0</td>\n",
       "      <td>5</td>\n",
       "      <td>Кольцо</td>\n",
       "      <td>SOKOLOV</td>\n",
       "    </tr>\n",
       "    <tr>\n",
       "      <th>3</th>\n",
       "      <td>Спустя месяц выпал камень при аккуратном ношен...</td>\n",
       "      <td>2021-03-09T20:34:29Z</td>\n",
       "      <td>серебристый</td>\n",
       "      <td>17</td>\n",
       "      <td>1</td>\n",
       "      <td>0</td>\n",
       "      <td>1</td>\n",
       "      <td>Кольцо</td>\n",
       "      <td>SOKOLOV</td>\n",
       "    </tr>\n",
       "    <tr>\n",
       "      <th>4</th>\n",
       "      <td>Очень красивое кольцо.  Кого интересует проба,...</td>\n",
       "      <td>2021-03-07T08:26:12Z</td>\n",
       "      <td>серебристый</td>\n",
       "      <td>18</td>\n",
       "      <td>2</td>\n",
       "      <td>1</td>\n",
       "      <td>5</td>\n",
       "      <td>Кольцо</td>\n",
       "      <td>SOKOLOV</td>\n",
       "    </tr>\n",
       "  </tbody>\n",
       "</table>\n",
       "</div>"
      ],
      "text/plain": [
       "                                             comment             date_time  \\\n",
       "0  Кольцо очень нежное, красивое, блестит , перел...  2021-05-09T11:51:08Z   \n",
       "1  Хорошее колечко, получила 20 марта, ни один ка...  2021-04-20T09:13:31Z   \n",
       "2      Пока все норм , камни на месте, милое колечко  2021-04-16T14:04:18Z   \n",
       "3  Спустя месяц выпал камень при аккуратном ношен...  2021-03-09T20:34:29Z   \n",
       "4  Очень красивое кольцо.  Кого интересует проба,...  2021-03-07T08:26:12Z   \n",
       "\n",
       "         color  size thumb_up thumb_down prod_eval    prod    brand  \n",
       "0  серебристый  16,5        1          0         5  кольцо  SOKOLOV  \n",
       "1  серебристый    18        0          1         4  Кольцо  SOKOLOV  \n",
       "2  серебристый    17        1          0         5  Кольцо  SOKOLOV  \n",
       "3  серебристый    17        1          0         1  Кольцо  SOKOLOV  \n",
       "4  серебристый    18        2          1         5  Кольцо  SOKOLOV  "
      ]
     },
     "execution_count": 4,
     "metadata": {},
     "output_type": "execute_result"
    }
   ],
   "source": [
    "#Make df from parsed choosen file\n",
    "columns = ['comment', 'date_time', 'color','size', 'thumb_up', 'thumb_down', 'prod_eval', 'prod', 'brand']\n",
    "\n",
    "df = pd.read_json(path).transpose().reset_index().drop('index', axis=1)\n",
    "df = df.set_axis(columns, axis = 'columns')\n",
    "print(df.shape)\n",
    "df[0:5]"
   ]
  },
  {
   "cell_type": "markdown",
   "id": "italian-trust",
   "metadata": {
    "heading_collapsed": true
   },
   "source": [
    "# Functions for text cleaning (symbols and stop-words)"
   ]
  },
  {
   "cell_type": "code",
   "execution_count": 5,
   "id": "nonprofit-receiver",
   "metadata": {
    "hidden": true
   },
   "outputs": [],
   "source": [
    "#function which delete all non-letters symbols\n",
    "def delete_non_letters(words):\n",
    "    new_words = []\n",
    "    words = words.split()\n",
    "    \n",
    "    for word in words:\n",
    "        new_word = \"\".join(c if c.isalpha() else \" \" for c in word )\n",
    "        \n",
    "        if new_word != '':\n",
    "            new_words.append(new_word)\n",
    "    text = ' '.join(c for c in new_words)\n",
    "        \n",
    "    return text"
   ]
  },
  {
   "cell_type": "code",
   "execution_count": 6,
   "id": "functioning-glucose",
   "metadata": {
    "hidden": true
   },
   "outputs": [],
   "source": [
    "#leave only russian letters\n",
    "def clean_text(text):\n",
    "    text = text.lower()\n",
    "    text = text.split()\n",
    "    text = ' '.join(re.sub(\"[^А-Яа-яё]\",'', i) for i in text)\n",
    "    text = delete_non_letters(text)\n",
    "    \n",
    "    return text\n"
   ]
  },
  {
   "cell_type": "code",
   "execution_count": 7,
   "id": "improved-tracy",
   "metadata": {
    "hidden": true
   },
   "outputs": [],
   "source": [
    "#delete stop-words which are in the list\"russian_stopwords\"\n",
    "def delete_stopwords(text): \n",
    "    text = text.split()\n",
    "    text = [w for w in text if not w in russian_stopwords and len(w) >= 3]\n",
    "    text = \" \".join(text)\n",
    "    \n",
    "    return text"
   ]
  },
  {
   "cell_type": "code",
   "execution_count": 8,
   "id": "stunning-scholar",
   "metadata": {
    "hidden": true
   },
   "outputs": [],
   "source": [
    "#text lemmatization with MySTem. In order to make it work faster we need to join all comments with the \"|\" delimeter\n",
    "#and than split by that symbol\n",
    "\n",
    "def lemmatize(text): \n",
    "    text =  [i for i in text]\n",
    "    m = Mystem()\n",
    "    merged_text = \"|\".join(text)\n",
    "\n",
    "    doc = []\n",
    "    res = []\n",
    "    count = 0\n",
    "    lemma = m.lemmatize(merged_text)\n",
    "    for t in lemma:\n",
    "        \n",
    "        if '|' not in t and count+1<len(lemma):\n",
    "            doc.append(t)\n",
    "            count+=1\n",
    "          \n",
    "        else:\n",
    "            doc = ''.join(i for i in doc)\n",
    "            res.append(doc)\n",
    "            count+=1\n",
    "            doc = []\n",
    "    return res"
   ]
  },
  {
   "cell_type": "code",
   "execution_count": 9,
   "id": "appropriate-poster",
   "metadata": {
    "hidden": true,
    "scrolled": true
   },
   "outputs": [
    {
     "data": {
      "text/html": [
       "<div>\n",
       "<style scoped>\n",
       "    .dataframe tbody tr th:only-of-type {\n",
       "        vertical-align: middle;\n",
       "    }\n",
       "\n",
       "    .dataframe tbody tr th {\n",
       "        vertical-align: top;\n",
       "    }\n",
       "\n",
       "    .dataframe thead th {\n",
       "        text-align: right;\n",
       "    }\n",
       "</style>\n",
       "<table border=\"1\" class=\"dataframe\">\n",
       "  <thead>\n",
       "    <tr style=\"text-align: right;\">\n",
       "      <th></th>\n",
       "      <th>comment</th>\n",
       "      <th>date_time</th>\n",
       "      <th>color</th>\n",
       "      <th>size</th>\n",
       "      <th>thumb_up</th>\n",
       "      <th>thumb_down</th>\n",
       "      <th>prod_eval</th>\n",
       "      <th>prod</th>\n",
       "      <th>brand</th>\n",
       "    </tr>\n",
       "  </thead>\n",
       "  <tbody>\n",
       "    <tr>\n",
       "      <th>0</th>\n",
       "      <td>Кольцо очень нежное, красивое, блестит , перел...</td>\n",
       "      <td>2021-05-09T11:51:08Z</td>\n",
       "      <td>серебристый</td>\n",
       "      <td>16,5</td>\n",
       "      <td>1</td>\n",
       "      <td>0</td>\n",
       "      <td>5</td>\n",
       "      <td>кольцо</td>\n",
       "      <td>SOKOLOV</td>\n",
       "    </tr>\n",
       "    <tr>\n",
       "      <th>1</th>\n",
       "      <td>Хорошее колечко, получила 20 марта, ни один ка...</td>\n",
       "      <td>2021-04-20T09:13:31Z</td>\n",
       "      <td>серебристый</td>\n",
       "      <td>18</td>\n",
       "      <td>0</td>\n",
       "      <td>1</td>\n",
       "      <td>4</td>\n",
       "      <td>Кольцо</td>\n",
       "      <td>SOKOLOV</td>\n",
       "    </tr>\n",
       "    <tr>\n",
       "      <th>2</th>\n",
       "      <td>Пока все норм , камни на месте, милое колечко</td>\n",
       "      <td>2021-04-16T14:04:18Z</td>\n",
       "      <td>серебристый</td>\n",
       "      <td>17</td>\n",
       "      <td>1</td>\n",
       "      <td>0</td>\n",
       "      <td>5</td>\n",
       "      <td>Кольцо</td>\n",
       "      <td>SOKOLOV</td>\n",
       "    </tr>\n",
       "    <tr>\n",
       "      <th>3</th>\n",
       "      <td>Спустя месяц выпал камень при аккуратном ношен...</td>\n",
       "      <td>2021-03-09T20:34:29Z</td>\n",
       "      <td>серебристый</td>\n",
       "      <td>17</td>\n",
       "      <td>1</td>\n",
       "      <td>0</td>\n",
       "      <td>1</td>\n",
       "      <td>Кольцо</td>\n",
       "      <td>SOKOLOV</td>\n",
       "    </tr>\n",
       "    <tr>\n",
       "      <th>4</th>\n",
       "      <td>Очень красивое кольцо.  Кого интересует проба,...</td>\n",
       "      <td>2021-03-07T08:26:12Z</td>\n",
       "      <td>серебристый</td>\n",
       "      <td>18</td>\n",
       "      <td>2</td>\n",
       "      <td>1</td>\n",
       "      <td>5</td>\n",
       "      <td>Кольцо</td>\n",
       "      <td>SOKOLOV</td>\n",
       "    </tr>\n",
       "  </tbody>\n",
       "</table>\n",
       "</div>"
      ],
      "text/plain": [
       "                                             comment             date_time  \\\n",
       "0  Кольцо очень нежное, красивое, блестит , перел...  2021-05-09T11:51:08Z   \n",
       "1  Хорошее колечко, получила 20 марта, ни один ка...  2021-04-20T09:13:31Z   \n",
       "2      Пока все норм , камни на месте, милое колечко  2021-04-16T14:04:18Z   \n",
       "3  Спустя месяц выпал камень при аккуратном ношен...  2021-03-09T20:34:29Z   \n",
       "4  Очень красивое кольцо.  Кого интересует проба,...  2021-03-07T08:26:12Z   \n",
       "\n",
       "         color  size thumb_up thumb_down prod_eval    prod    brand  \n",
       "0  серебристый  16,5        1          0         5  кольцо  SOKOLOV  \n",
       "1  серебристый    18        0          1         4  Кольцо  SOKOLOV  \n",
       "2  серебристый    17        1          0         5  Кольцо  SOKOLOV  \n",
       "3  серебристый    17        1          0         1  Кольцо  SOKOLOV  \n",
       "4  серебристый    18        2          1         5  Кольцо  SOKOLOV  "
      ]
     },
     "execution_count": 9,
     "metadata": {},
     "output_type": "execute_result"
    }
   ],
   "source": [
    "df.head()"
   ]
  },
  {
   "cell_type": "markdown",
   "id": "excellent-documentary",
   "metadata": {
    "heading_collapsed": true
   },
   "source": [
    "# Stopwords extension"
   ]
  },
  {
   "cell_type": "code",
   "execution_count": 10,
   "id": "hollywood-array",
   "metadata": {
    "hidden": true
   },
   "outputs": [],
   "source": [
    "\n",
    "file_name = 'StopWords_extension.csv'\n",
    "path = f'../{file_name}'\n",
    "SW = pd.read_csv(path, index_col = 'Index')\n",
    "SW_list = SW['Word'].tolist()"
   ]
  },
  {
   "cell_type": "code",
   "execution_count": 11,
   "id": "funded-walnut",
   "metadata": {
    "hidden": true
   },
   "outputs": [],
   "source": [
    "#clean new StopWords \n",
    "prod_text = clean_text(df['prod'][0])\n",
    "brand_text = clean_text(df['brand'][0])"
   ]
  },
  {
   "cell_type": "code",
   "execution_count": 12,
   "id": "super-improvement",
   "metadata": {
    "hidden": true
   },
   "outputs": [
    {
     "data": {
      "text/plain": [
       "['кольцо', 'кольцо']"
      ]
     },
     "execution_count": 12,
     "metadata": {},
     "output_type": "execute_result"
    }
   ],
   "source": [
    "#make custom list of StopWords (from df columns\"prod\" and \"brand\") \n",
    "stopwords_add_by_hand = [] #list for add later in file 'StopWords_extension.csv'\n",
    "stopwords_add_by_category = [i for i in brand_text.split()]+[i for i in prod_text.split()]\n",
    "stopwords_add_by_category += lemmatize(stopwords_add_by_category)\n",
    "stopwords_add_by_category"
   ]
  },
  {
   "cell_type": "code",
   "execution_count": 13,
   "id": "criminal-selection",
   "metadata": {
    "hidden": true
   },
   "outputs": [],
   "source": [
    "#full list of russian StopWords for this good\n",
    "russian_stopwords = stopwords.words(\"russian\")\n",
    "russian_stopwords.extend(stopwords_add_by_hand+stopwords_add_by_category+SW_list)"
   ]
  },
  {
   "cell_type": "markdown",
   "id": "sunrise-welsh",
   "metadata": {
    "heading_collapsed": true
   },
   "source": [
    "# Clean comments before lemmatization"
   ]
  },
  {
   "cell_type": "code",
   "execution_count": 14,
   "id": "russian-novel",
   "metadata": {
    "hidden": true
   },
   "outputs": [],
   "source": [
    "df['cleaned_comment'] = df['comment'].map(lambda x: clean_text(x))\n",
    "df['cleaned_comment'] = df['cleaned_comment'].map(lambda x: delete_stopwords(x))"
   ]
  },
  {
   "cell_type": "code",
   "execution_count": 15,
   "id": "discrete-hierarchy",
   "metadata": {
    "hidden": true
   },
   "outputs": [
    {
     "data": {
      "text/html": [
       "<div>\n",
       "<style scoped>\n",
       "    .dataframe tbody tr th:only-of-type {\n",
       "        vertical-align: middle;\n",
       "    }\n",
       "\n",
       "    .dataframe tbody tr th {\n",
       "        vertical-align: top;\n",
       "    }\n",
       "\n",
       "    .dataframe thead th {\n",
       "        text-align: right;\n",
       "    }\n",
       "</style>\n",
       "<table border=\"1\" class=\"dataframe\">\n",
       "  <thead>\n",
       "    <tr style=\"text-align: right;\">\n",
       "      <th></th>\n",
       "      <th>comment</th>\n",
       "      <th>date_time</th>\n",
       "      <th>color</th>\n",
       "      <th>size</th>\n",
       "      <th>thumb_up</th>\n",
       "      <th>thumb_down</th>\n",
       "      <th>prod_eval</th>\n",
       "      <th>prod</th>\n",
       "      <th>brand</th>\n",
       "      <th>cleaned_comment</th>\n",
       "    </tr>\n",
       "  </thead>\n",
       "  <tbody>\n",
       "    <tr>\n",
       "      <th>0</th>\n",
       "      <td>Кольцо очень нежное, красивое, блестит , перел...</td>\n",
       "      <td>2021-05-09T11:51:08Z</td>\n",
       "      <td>серебристый</td>\n",
       "      <td>16,5</td>\n",
       "      <td>1</td>\n",
       "      <td>0</td>\n",
       "      <td>5</td>\n",
       "      <td>кольцо</td>\n",
       "      <td>SOKOLOV</td>\n",
       "      <td>нежное красивое блестит переливается</td>\n",
       "    </tr>\n",
       "    <tr>\n",
       "      <th>1</th>\n",
       "      <td>Хорошее колечко, получила 20 марта, ни один ка...</td>\n",
       "      <td>2021-04-20T09:13:31Z</td>\n",
       "      <td>серебристый</td>\n",
       "      <td>18</td>\n",
       "      <td>0</td>\n",
       "      <td>1</td>\n",
       "      <td>4</td>\n",
       "      <td>Кольцо</td>\n",
       "      <td>SOKOLOV</td>\n",
       "      <td>хорошее колечко получила марта камушек выпал н...</td>\n",
       "    </tr>\n",
       "    <tr>\n",
       "      <th>2</th>\n",
       "      <td>Пока все норм , камни на месте, милое колечко</td>\n",
       "      <td>2021-04-16T14:04:18Z</td>\n",
       "      <td>серебристый</td>\n",
       "      <td>17</td>\n",
       "      <td>1</td>\n",
       "      <td>0</td>\n",
       "      <td>5</td>\n",
       "      <td>Кольцо</td>\n",
       "      <td>SOKOLOV</td>\n",
       "      <td>норм камни месте милое колечко</td>\n",
       "    </tr>\n",
       "    <tr>\n",
       "      <th>3</th>\n",
       "      <td>Спустя месяц выпал камень при аккуратном ношен...</td>\n",
       "      <td>2021-03-09T20:34:29Z</td>\n",
       "      <td>серебристый</td>\n",
       "      <td>17</td>\n",
       "      <td>1</td>\n",
       "      <td>0</td>\n",
       "      <td>1</td>\n",
       "      <td>Кольцо</td>\n",
       "      <td>SOKOLOV</td>\n",
       "      <td>спустя месяц выпал камень аккуратном ношении и...</td>\n",
       "    </tr>\n",
       "    <tr>\n",
       "      <th>4</th>\n",
       "      <td>Очень красивое кольцо.  Кого интересует проба,...</td>\n",
       "      <td>2021-03-07T08:26:12Z</td>\n",
       "      <td>серебристый</td>\n",
       "      <td>18</td>\n",
       "      <td>2</td>\n",
       "      <td>1</td>\n",
       "      <td>5</td>\n",
       "      <td>Кольцо</td>\n",
       "      <td>SOKOLOV</td>\n",
       "      <td>красивое интересует проба буква</td>\n",
       "    </tr>\n",
       "  </tbody>\n",
       "</table>\n",
       "</div>"
      ],
      "text/plain": [
       "                                             comment             date_time  \\\n",
       "0  Кольцо очень нежное, красивое, блестит , перел...  2021-05-09T11:51:08Z   \n",
       "1  Хорошее колечко, получила 20 марта, ни один ка...  2021-04-20T09:13:31Z   \n",
       "2      Пока все норм , камни на месте, милое колечко  2021-04-16T14:04:18Z   \n",
       "3  Спустя месяц выпал камень при аккуратном ношен...  2021-03-09T20:34:29Z   \n",
       "4  Очень красивое кольцо.  Кого интересует проба,...  2021-03-07T08:26:12Z   \n",
       "\n",
       "         color  size thumb_up thumb_down prod_eval    prod    brand  \\\n",
       "0  серебристый  16,5        1          0         5  кольцо  SOKOLOV   \n",
       "1  серебристый    18        0          1         4  Кольцо  SOKOLOV   \n",
       "2  серебристый    17        1          0         5  Кольцо  SOKOLOV   \n",
       "3  серебристый    17        1          0         1  Кольцо  SOKOLOV   \n",
       "4  серебристый    18        2          1         5  Кольцо  SOKOLOV   \n",
       "\n",
       "                                     cleaned_comment  \n",
       "0               нежное красивое блестит переливается  \n",
       "1  хорошее колечко получила марта камушек выпал н...  \n",
       "2                     норм камни месте милое колечко  \n",
       "3  спустя месяц выпал камень аккуратном ношении и...  \n",
       "4                    красивое интересует проба буква  "
      ]
     },
     "execution_count": 15,
     "metadata": {},
     "output_type": "execute_result"
    }
   ],
   "source": [
    "df.head(5)"
   ]
  },
  {
   "cell_type": "markdown",
   "id": "mighty-wonder",
   "metadata": {
    "heading_collapsed": true
   },
   "source": [
    "# Mystem lemmatization and drop empty comments"
   ]
  },
  {
   "cell_type": "code",
   "execution_count": 16,
   "id": "backed-tracy",
   "metadata": {
    "hidden": true
   },
   "outputs": [],
   "source": [
    "#delete empty comments after cleaning\n",
    "df = df.drop(df[df['cleaned_comment']==''].index).reset_index(drop = True)"
   ]
  },
  {
   "cell_type": "code",
   "execution_count": 17,
   "id": "seven-seeking",
   "metadata": {
    "hidden": true
   },
   "outputs": [],
   "source": [
    "#lemmatization with Mystem\n",
    "df['lemma_comment'] = lemmatize(df['cleaned_comment'])"
   ]
  },
  {
   "cell_type": "markdown",
   "id": "infinite-answer",
   "metadata": {
    "heading_collapsed": true
   },
   "source": [
    "# Delete StopWords"
   ]
  },
  {
   "cell_type": "code",
   "execution_count": 18,
   "id": "amazing-member",
   "metadata": {
    "hidden": true
   },
   "outputs": [],
   "source": [
    "df['lemma_comment'] = df['lemma_comment'].map(lambda x: delete_stopwords(x))\n",
    "df = df.drop(df[df['lemma_comment']==''].index).reset_index(drop = True)"
   ]
  },
  {
   "cell_type": "code",
   "execution_count": 19,
   "id": "neutral-convergence",
   "metadata": {
    "hidden": true
   },
   "outputs": [
    {
     "data": {
      "text/html": [
       "<div>\n",
       "<style scoped>\n",
       "    .dataframe tbody tr th:only-of-type {\n",
       "        vertical-align: middle;\n",
       "    }\n",
       "\n",
       "    .dataframe tbody tr th {\n",
       "        vertical-align: top;\n",
       "    }\n",
       "\n",
       "    .dataframe thead th {\n",
       "        text-align: right;\n",
       "    }\n",
       "</style>\n",
       "<table border=\"1\" class=\"dataframe\">\n",
       "  <thead>\n",
       "    <tr style=\"text-align: right;\">\n",
       "      <th></th>\n",
       "      <th>comment</th>\n",
       "      <th>date_time</th>\n",
       "      <th>color</th>\n",
       "      <th>size</th>\n",
       "      <th>thumb_up</th>\n",
       "      <th>thumb_down</th>\n",
       "      <th>prod_eval</th>\n",
       "      <th>prod</th>\n",
       "      <th>brand</th>\n",
       "      <th>cleaned_comment</th>\n",
       "      <th>lemma_comment</th>\n",
       "    </tr>\n",
       "  </thead>\n",
       "  <tbody>\n",
       "    <tr>\n",
       "      <th>163</th>\n",
       "      <td>Очень милое и аккуратное колечко)смотрится на ...</td>\n",
       "      <td>2015-08-06T10:37:59+03:00</td>\n",
       "      <td>серебристый</td>\n",
       "      <td></td>\n",
       "      <td>3</td>\n",
       "      <td>0</td>\n",
       "      <td>5</td>\n",
       "      <td>Кольцо</td>\n",
       "      <td>SOKOLOV</td>\n",
       "      <td>милое аккуратное колечкосмотрится дороже ценыи...</td>\n",
       "      <td>милый аккуратный колечкосмотреться дорогой цен...</td>\n",
       "    </tr>\n",
       "    <tr>\n",
       "      <th>164</th>\n",
       "      <td>Хорошенькое.Спасибо</td>\n",
       "      <td>2015-06-23T19:43:12+03:00</td>\n",
       "      <td>серебристый</td>\n",
       "      <td></td>\n",
       "      <td>1</td>\n",
       "      <td>1</td>\n",
       "      <td>5</td>\n",
       "      <td>Кольцо</td>\n",
       "      <td>SOKOLOV</td>\n",
       "      <td>хорошенькоеспасибо</td>\n",
       "      <td>хорошенькоеспасибо</td>\n",
       "    </tr>\n",
       "    <tr>\n",
       "      <th>165</th>\n",
       "      <td>очень нежное колечко, понравилось, на солнышке...</td>\n",
       "      <td>2015-06-21T23:00:01+03:00</td>\n",
       "      <td>серебристый</td>\n",
       "      <td></td>\n",
       "      <td>6</td>\n",
       "      <td>0</td>\n",
       "      <td>5</td>\n",
       "      <td>Кольцо</td>\n",
       "      <td>SOKOLOV</td>\n",
       "      <td>нежное колечко понравилось солнышке искусствен...</td>\n",
       "      <td>нежный колечко солнышко искусственный освещени...</td>\n",
       "    </tr>\n",
       "    <tr>\n",
       "      <th>166</th>\n",
       "      <td>Маломерит на 0,5 размера.</td>\n",
       "      <td>2015-06-16T00:07:01+03:00</td>\n",
       "      <td>серебристый</td>\n",
       "      <td></td>\n",
       "      <td>3</td>\n",
       "      <td>2</td>\n",
       "      <td>5</td>\n",
       "      <td>Кольцо</td>\n",
       "      <td>SOKOLOV</td>\n",
       "      <td>маломерит размера</td>\n",
       "      <td>маломерить размер</td>\n",
       "    </tr>\n",
       "    <tr>\n",
       "      <th>167</th>\n",
       "      <td>Кольцо очень красивое!!! Блестит как настоящий...</td>\n",
       "      <td>2015-05-22T09:28:10+03:00</td>\n",
       "      <td>серебристый</td>\n",
       "      <td></td>\n",
       "      <td>9</td>\n",
       "      <td>0</td>\n",
       "      <td>5</td>\n",
       "      <td>Кольцо</td>\n",
       "      <td>SOKOLOV</td>\n",
       "      <td>красивое блестит настоящий брилллиантна руке с...</td>\n",
       "      <td>красивый блестеть настоящий брилллиантный смот...</td>\n",
       "    </tr>\n",
       "  </tbody>\n",
       "</table>\n",
       "</div>"
      ],
      "text/plain": [
       "                                               comment  \\\n",
       "163  Очень милое и аккуратное колечко)смотрится на ...   \n",
       "164                                Хорошенькое.Спасибо   \n",
       "165  очень нежное колечко, понравилось, на солнышке...   \n",
       "166                          Маломерит на 0,5 размера.   \n",
       "167  Кольцо очень красивое!!! Блестит как настоящий...   \n",
       "\n",
       "                     date_time        color size thumb_up thumb_down  \\\n",
       "163  2015-08-06T10:37:59+03:00  серебристый             3          0   \n",
       "164  2015-06-23T19:43:12+03:00  серебристый             1          1   \n",
       "165  2015-06-21T23:00:01+03:00  серебристый             6          0   \n",
       "166  2015-06-16T00:07:01+03:00  серебристый             3          2   \n",
       "167  2015-05-22T09:28:10+03:00  серебристый             9          0   \n",
       "\n",
       "    prod_eval    prod    brand  \\\n",
       "163         5  Кольцо  SOKOLOV   \n",
       "164         5  Кольцо  SOKOLOV   \n",
       "165         5  Кольцо  SOKOLOV   \n",
       "166         5  Кольцо  SOKOLOV   \n",
       "167         5  Кольцо  SOKOLOV   \n",
       "\n",
       "                                       cleaned_comment  \\\n",
       "163  милое аккуратное колечкосмотрится дороже ценыи...   \n",
       "164                                 хорошенькоеспасибо   \n",
       "165  нежное колечко понравилось солнышке искусствен...   \n",
       "166                                  маломерит размера   \n",
       "167  красивое блестит настоящий брилллиантна руке с...   \n",
       "\n",
       "                                         lemma_comment  \n",
       "163  милый аккуратный колечкосмотреться дорогой цен...  \n",
       "164                                 хорошенькоеспасибо  \n",
       "165  нежный колечко солнышко искусственный освещени...  \n",
       "166                                  маломерить размер  \n",
       "167  красивый блестеть настоящий брилллиантный смот...  "
      ]
     },
     "execution_count": 19,
     "metadata": {},
     "output_type": "execute_result"
    }
   ],
   "source": [
    "df.tail(5)"
   ]
  },
  {
   "cell_type": "code",
   "execution_count": 20,
   "id": "peaceful-indonesia",
   "metadata": {
    "hidden": true
   },
   "outputs": [],
   "source": [
    "preprocessed_comments = df['lemma_comment']"
   ]
  },
  {
   "cell_type": "markdown",
   "id": "considerable-affiliation",
   "metadata": {
    "heading_collapsed": true
   },
   "source": [
    "# IDF1"
   ]
  },
  {
   "cell_type": "code",
   "execution_count": 21,
   "id": "official-heather",
   "metadata": {
    "hidden": true
   },
   "outputs": [
    {
     "data": {
      "text/plain": [
       "<168x136 sparse matrix of type '<class 'numpy.float64'>'\n",
       "\twith 699 stored elements in Compressed Sparse Row format>"
      ]
     },
     "execution_count": 21,
     "metadata": {},
     "output_type": "execute_result"
    }
   ],
   "source": [
    "#vectorization without words, that meet 2 times or less\n",
    "vectorizer = TfidfVectorizer(min_df=2)\n",
    "vectorizer.fit_transform(preprocessed_comments)"
   ]
  },
  {
   "cell_type": "code",
   "execution_count": 22,
   "id": "irish-pickup",
   "metadata": {
    "hidden": true
   },
   "outputs": [],
   "source": [
    "#creating a dictionary mapping the tokens to their idf values\n",
    "idf = dict(zip(vectorizer.get_feature_names(), vectorizer.idf_))\n",
    "idf = pd.DataFrame(columns=['idf']).from_dict(\n",
    "                    dict(idf), orient='index')\n",
    "idf.columns = ['idf']"
   ]
  },
  {
   "cell_type": "code",
   "execution_count": 23,
   "id": "particular-monthly",
   "metadata": {
    "hidden": true
   },
   "outputs": [
    {
     "data": {
      "text/html": [
       "<div>\n",
       "<style scoped>\n",
       "    .dataframe tbody tr th:only-of-type {\n",
       "        vertical-align: middle;\n",
       "    }\n",
       "\n",
       "    .dataframe tbody tr th {\n",
       "        vertical-align: top;\n",
       "    }\n",
       "\n",
       "    .dataframe thead th {\n",
       "        text-align: right;\n",
       "    }\n",
       "</style>\n",
       "<table border=\"1\" class=\"dataframe\">\n",
       "  <thead>\n",
       "    <tr style=\"text-align: right;\">\n",
       "      <th></th>\n",
       "      <th>idf</th>\n",
       "    </tr>\n",
       "  </thead>\n",
       "  <tbody>\n",
       "    <tr>\n",
       "      <th>аккуратно</th>\n",
       "      <td>4.520461</td>\n",
       "    </tr>\n",
       "    <tr>\n",
       "      <th>аккуратный</th>\n",
       "      <td>3.932674</td>\n",
       "    </tr>\n",
       "    <tr>\n",
       "      <th>бижутерия</th>\n",
       "      <td>5.031286</td>\n",
       "    </tr>\n",
       "    <tr>\n",
       "      <th>блестеть</th>\n",
       "      <td>3.932674</td>\n",
       "    </tr>\n",
       "    <tr>\n",
       "      <th>большеватый</th>\n",
       "      <td>4.743604</td>\n",
       "    </tr>\n",
       "    <tr>\n",
       "      <th>...</th>\n",
       "      <td>...</td>\n",
       "    </tr>\n",
       "    <tr>\n",
       "      <th>шикарно</th>\n",
       "      <td>4.520461</td>\n",
       "    </tr>\n",
       "    <tr>\n",
       "      <th>шикарный</th>\n",
       "      <td>4.183989</td>\n",
       "    </tr>\n",
       "    <tr>\n",
       "      <th>ювелирный</th>\n",
       "      <td>5.031286</td>\n",
       "    </tr>\n",
       "    <tr>\n",
       "      <th>явно</th>\n",
       "      <td>5.031286</td>\n",
       "    </tr>\n",
       "    <tr>\n",
       "      <th>яркий</th>\n",
       "      <td>4.743604</td>\n",
       "    </tr>\n",
       "  </tbody>\n",
       "</table>\n",
       "<p>136 rows × 1 columns</p>\n",
       "</div>"
      ],
      "text/plain": [
       "                  idf\n",
       "аккуратно    4.520461\n",
       "аккуратный   3.932674\n",
       "бижутерия    5.031286\n",
       "блестеть     3.932674\n",
       "большеватый  4.743604\n",
       "...               ...\n",
       "шикарно      4.520461\n",
       "шикарный     4.183989\n",
       "ювелирный    5.031286\n",
       "явно         5.031286\n",
       "яркий        4.743604\n",
       "\n",
       "[136 rows x 1 columns]"
      ]
     },
     "execution_count": 23,
     "metadata": {},
     "output_type": "execute_result"
    }
   ],
   "source": [
    "idf"
   ]
  },
  {
   "cell_type": "markdown",
   "id": "excited-furniture",
   "metadata": {
    "heading_collapsed": true
   },
   "source": [
    "# IDF1 result"
   ]
  },
  {
   "cell_type": "code",
   "execution_count": 24,
   "id": "polyphonic-seminar",
   "metadata": {
    "hidden": true
   },
   "outputs": [],
   "source": [
    "# function that give a part of speech (MyStem)\n",
    "def pos_define(x):\n",
    "    m = Mystem()\n",
    "    w = m.analyze(x)[0]\n",
    "    pos = w['analysis'][0]['gr'].split(',')[0]\n",
    "    pos = pos.split('=')[0].strip()\n",
    "    return pos"
   ]
  },
  {
   "cell_type": "code",
   "execution_count": 25,
   "id": "liable-popularity",
   "metadata": {
    "hidden": true
   },
   "outputs": [
    {
     "data": {
      "text/html": [
       "<div>\n",
       "<style scoped>\n",
       "    .dataframe tbody tr th:only-of-type {\n",
       "        vertical-align: middle;\n",
       "    }\n",
       "\n",
       "    .dataframe tbody tr th {\n",
       "        vertical-align: top;\n",
       "    }\n",
       "\n",
       "    .dataframe thead th {\n",
       "        text-align: right;\n",
       "    }\n",
       "</style>\n",
       "<table border=\"1\" class=\"dataframe\">\n",
       "  <thead>\n",
       "    <tr style=\"text-align: right;\">\n",
       "      <th></th>\n",
       "      <th>idf</th>\n",
       "    </tr>\n",
       "  </thead>\n",
       "  <tbody>\n",
       "    <tr>\n",
       "      <th>0</th>\n",
       "      <td>красивый</td>\n",
       "    </tr>\n",
       "    <tr>\n",
       "      <th>1</th>\n",
       "      <td>колечко</td>\n",
       "    </tr>\n",
       "    <tr>\n",
       "      <th>2</th>\n",
       "      <td>размер</td>\n",
       "    </tr>\n",
       "    <tr>\n",
       "      <th>3</th>\n",
       "      <td>камень</td>\n",
       "    </tr>\n",
       "    <tr>\n",
       "      <th>4</th>\n",
       "      <td>фианит</td>\n",
       "    </tr>\n",
       "  </tbody>\n",
       "</table>\n",
       "</div>"
      ],
      "text/plain": [
       "        idf\n",
       "0  красивый\n",
       "1   колечко\n",
       "2    размер\n",
       "3    камень\n",
       "4    фианит"
      ]
     },
     "execution_count": 25,
     "metadata": {},
     "output_type": "execute_result"
    }
   ],
   "source": [
    "\n",
    "idf = idf.sort_values(by=['idf'], ascending=True)\n",
    "\n",
    "def final_topics(df):\n",
    "    final_topics = []\n",
    "    for x in df.index:\n",
    "        if len(final_topics)<5:\n",
    "            if pos_define(x) not in ['V','ADV'] and (x not in final_topics):\n",
    "                final_topics.append(x)\n",
    "        else: break\n",
    "    return final_topics\n",
    "\n",
    "idf1_res = pd.DataFrame(final_topics(idf), columns = ['idf'])\n",
    "idf1_res"
   ]
  },
  {
   "cell_type": "markdown",
   "id": "clear-walter",
   "metadata": {
    "heading_collapsed": true
   },
   "source": [
    "# Spacy. Looking for most similar comments for each word"
   ]
  },
  {
   "cell_type": "code",
   "execution_count": 26,
   "id": "leading-secret",
   "metadata": {
    "hidden": true
   },
   "outputs": [],
   "source": [
    "#loading a big russian library\n",
    "nlp = spacy.load('ru_core_news_lg')"
   ]
  },
  {
   "cell_type": "code",
   "execution_count": 27,
   "id": "about-antigua",
   "metadata": {
    "hidden": true
   },
   "outputs": [],
   "source": [
    "#function that gives 10 the most relevant comments to our query\n",
    "\n",
    "def top_10_similar(word_for_checking, dataframe, column):\n",
    "\n",
    "    critical_similarity_value = 0.47 #limitation of similarity rate\n",
    "    \n",
    "    word_for_checking = nlp(word_for_checking)\n",
    "    similarities = []\n",
    "    pos = []\n",
    "    for i in range(len(dataframe[column])):\n",
    "        similarities.append(nlp(dataframe[column][i]).similarity(word_for_checking))\n",
    "    \n",
    "    df_temp = dataframe.copy()\n",
    "    df_temp[f'similarity_to_{word_for_checking}'] = similarities\n",
    "    \n",
    "    #similarities, фильтрация в соответствии с critical_similarity_value\n",
    "    df_temp = df_temp.sort_values(by = f'similarity_to_{word_for_checking}', ascending = False).head(10)\n",
    "    res = df_temp[df_temp[f'similarity_to_{word_for_checking}'] > critical_similarity_value][['comment', f'similarity_to_{word_for_checking}']]\n",
    "    res = list(res['comment'])\n",
    "    \n",
    "    if len(res)>0:\n",
    "        return res\n",
    "    else: \n",
    "        return \"По вашему запросу совпадений не найдено\""
   ]
  },
  {
   "cell_type": "code",
   "execution_count": 28,
   "id": "negative-wages",
   "metadata": {
    "hidden": true
   },
   "outputs": [
    {
     "name": "stderr",
     "output_type": "stream",
     "text": [
      "<ipython-input-27-fb0046b9a4e7>:11: UserWarning: [W008] Evaluating Doc.similarity based on empty vectors.\n",
      "  similarities.append(nlp(dataframe[column][i]).similarity(word_for_checking))\n"
     ]
    },
    {
     "data": {
      "text/plain": [
       "['Очень красивое и нежное, ношу в комплекте с другим колечком ! Все нравится !!!',\n",
       " 'мне очень понравилось! купила дочке 17 лет на новый год, блестящее и нарядное, 16 рр соответствует. упаковка тоже норм, можно так дарить. 600 р',\n",
       " 'Очень красивое колечко',\n",
       " 'Очень красивое колечко! Взяла 16, немного большемерит.',\n",
       " 'Красивое, милое колечко. Камни переливаються, очень нежно смотриться.',\n",
       " 'Очень красивое,  аккуратно  колечко:)',\n",
       " 'Хорошее колечко, получила 20 марта, ни один камушек не выпал. Но носить его надо одно, либо с похожими кольцами. Когда я одеваю обручальное с бриллиантами и это, то сразу видно что стекляшка 😀',\n",
       " 'Кольцо очень красивое и очень яркое. Качество замечательное, но для меня слишком большой камень. Отказ в пользу более скромного варианта.',\n",
       " 'Красивое колечко, в размер. Покупала 28.05.20 и вот сегодня 22 июня выпал камень. Честно никогда с таким не сталкивалась и не первый раз покупаю кольца данного бренда. Смотрю по отзывам не мне одной так \"повезло\".',\n",
       " 'Хех,  красивое,  соглашусь. Через месяц камень вывалился. Хотя ношу украшения только на работу.']"
      ]
     },
     "execution_count": 28,
     "metadata": {},
     "output_type": "execute_result"
    }
   ],
   "source": [
    "#here we need it only in order to compare intermediate results with future results\n",
    "top_10_similar('подарок', df,'lemma_comment')"
   ]
  },
  {
   "cell_type": "markdown",
   "id": "empirical-cosmetic",
   "metadata": {
    "heading_collapsed": true
   },
   "source": [
    "# Stopwods_extension. IDF once again"
   ]
  },
  {
   "cell_type": "code",
   "execution_count": 29,
   "id": "chronic-singing",
   "metadata": {
    "hidden": true
   },
   "outputs": [
    {
     "data": {
      "text/plain": [
       "(array([ 2.,  2.,  1.,  0.,  2.,  9.,  9., 10., 12., 89.]),\n",
       " array([2.08684745, 2.38129135, 2.67573524, 2.97017914, 3.26462304,\n",
       "        3.55906694, 3.85351083, 4.14795473, 4.44239863, 4.73684253,\n",
       "        5.03128643]),\n",
       " <BarContainer object of 10 artists>)"
      ]
     },
     "execution_count": 29,
     "metadata": {},
     "output_type": "execute_result"
    },
    {
     "data": {
      "image/png": "[encoded data removed]",
      "text/plain": [
       "<Figure size 432x288 with 1 Axes>"
      ]
     },
     "metadata": {
      "needs_background": "light"
     },
     "output_type": "display_data"
    }
   ],
   "source": [
    "plt.hist(idf.sort_values('idf')['idf'])"
   ]
  },
  {
   "cell_type": "code",
   "execution_count": 30,
   "id": "fuzzy-edition",
   "metadata": {
    "hidden": true
   },
   "outputs": [],
   "source": [
    "#limits for idf value, which we will delete (the lower idf value, the more often it occures in the text)\n",
    "#values were choosen empirically\n",
    "max_lim = 6\n",
    "min_lim = 3"
   ]
  },
  {
   "cell_type": "code",
   "execution_count": 31,
   "id": "preceding-christmas",
   "metadata": {
    "hidden": true
   },
   "outputs": [],
   "source": [
    "#we add to the stoplist all words with idf value more than 6 and less than 3\n",
    "SW_idf = idf[(idf['idf']>max_lim)|(idf['idf']<min_lim)].reset_index()['index'].tolist()\n",
    "russian_stopwords.extend(SW_idf)"
   ]
  },
  {
   "cell_type": "code",
   "execution_count": 32,
   "id": "announced-corrections",
   "metadata": {
    "hidden": true
   },
   "outputs": [],
   "source": [
    "#add to df new column with finally cleaned text\n",
    "df['lemma_comment_2'] = df['lemma_comment'].map(lambda x: delete_stopwords(x))\n",
    "df = df.drop(df[df['lemma_comment_2']==''].index)"
   ]
  },
  {
   "cell_type": "code",
   "execution_count": 33,
   "id": "decent-radio",
   "metadata": {
    "hidden": true
   },
   "outputs": [
    {
     "data": {
      "text/html": [
       "<div>\n",
       "<style scoped>\n",
       "    .dataframe tbody tr th:only-of-type {\n",
       "        vertical-align: middle;\n",
       "    }\n",
       "\n",
       "    .dataframe tbody tr th {\n",
       "        vertical-align: top;\n",
       "    }\n",
       "\n",
       "    .dataframe thead th {\n",
       "        text-align: right;\n",
       "    }\n",
       "</style>\n",
       "<table border=\"1\" class=\"dataframe\">\n",
       "  <thead>\n",
       "    <tr style=\"text-align: right;\">\n",
       "      <th></th>\n",
       "      <th>comment</th>\n",
       "      <th>date_time</th>\n",
       "      <th>color</th>\n",
       "      <th>size</th>\n",
       "      <th>thumb_up</th>\n",
       "      <th>thumb_down</th>\n",
       "      <th>prod_eval</th>\n",
       "      <th>prod</th>\n",
       "      <th>brand</th>\n",
       "      <th>cleaned_comment</th>\n",
       "      <th>lemma_comment</th>\n",
       "      <th>lemma_comment_2</th>\n",
       "    </tr>\n",
       "  </thead>\n",
       "  <tbody>\n",
       "    <tr>\n",
       "      <th>0</th>\n",
       "      <td>Кольцо очень нежное, красивое, блестит , перел...</td>\n",
       "      <td>2021-05-09T11:51:08Z</td>\n",
       "      <td>серебристый</td>\n",
       "      <td>16,5</td>\n",
       "      <td>1</td>\n",
       "      <td>0</td>\n",
       "      <td>5</td>\n",
       "      <td>кольцо</td>\n",
       "      <td>SOKOLOV</td>\n",
       "      <td>нежное красивое блестит переливается</td>\n",
       "      <td>нежный красивый блестеть переливаться</td>\n",
       "      <td>нежный блестеть переливаться</td>\n",
       "    </tr>\n",
       "    <tr>\n",
       "      <th>1</th>\n",
       "      <td>Хорошее колечко, получила 20 марта, ни один ка...</td>\n",
       "      <td>2021-04-20T09:13:31Z</td>\n",
       "      <td>серебристый</td>\n",
       "      <td>18</td>\n",
       "      <td>0</td>\n",
       "      <td>1</td>\n",
       "      <td>4</td>\n",
       "      <td>Кольцо</td>\n",
       "      <td>SOKOLOV</td>\n",
       "      <td>хорошее колечко получила марта камушек выпал н...</td>\n",
       "      <td>колечко получать марта камушек выпадать носить...</td>\n",
       "      <td>получать марта камушек выпадать носить либо по...</td>\n",
       "    </tr>\n",
       "    <tr>\n",
       "      <th>2</th>\n",
       "      <td>Пока все норм , камни на месте, милое колечко</td>\n",
       "      <td>2021-04-16T14:04:18Z</td>\n",
       "      <td>серебристый</td>\n",
       "      <td>17</td>\n",
       "      <td>1</td>\n",
       "      <td>0</td>\n",
       "      <td>5</td>\n",
       "      <td>Кольцо</td>\n",
       "      <td>SOKOLOV</td>\n",
       "      <td>норм камни месте милое колечко</td>\n",
       "      <td>камень милый колечко</td>\n",
       "      <td>милый</td>\n",
       "    </tr>\n",
       "  </tbody>\n",
       "</table>\n",
       "</div>"
      ],
      "text/plain": [
       "                                             comment             date_time  \\\n",
       "0  Кольцо очень нежное, красивое, блестит , перел...  2021-05-09T11:51:08Z   \n",
       "1  Хорошее колечко, получила 20 марта, ни один ка...  2021-04-20T09:13:31Z   \n",
       "2      Пока все норм , камни на месте, милое колечко  2021-04-16T14:04:18Z   \n",
       "\n",
       "         color  size thumb_up thumb_down prod_eval    prod    brand  \\\n",
       "0  серебристый  16,5        1          0         5  кольцо  SOKOLOV   \n",
       "1  серебристый    18        0          1         4  Кольцо  SOKOLOV   \n",
       "2  серебристый    17        1          0         5  Кольцо  SOKOLOV   \n",
       "\n",
       "                                     cleaned_comment  \\\n",
       "0               нежное красивое блестит переливается   \n",
       "1  хорошее колечко получила марта камушек выпал н...   \n",
       "2                     норм камни месте милое колечко   \n",
       "\n",
       "                                       lemma_comment  \\\n",
       "0              нежный красивый блестеть переливаться   \n",
       "1  колечко получать марта камушек выпадать носить...   \n",
       "2                               камень милый колечко   \n",
       "\n",
       "                                     lemma_comment_2  \n",
       "0                       нежный блестеть переливаться  \n",
       "1  получать марта камушек выпадать носить либо по...  \n",
       "2                                              милый  "
      ]
     },
     "execution_count": 33,
     "metadata": {},
     "output_type": "execute_result"
    }
   ],
   "source": [
    "df.head(3)"
   ]
  },
  {
   "cell_type": "code",
   "execution_count": 34,
   "id": "hairy-regression",
   "metadata": {
    "hidden": true
   },
   "outputs": [],
   "source": [
    "#reset indexes after empty comments remove and words count\n",
    "df = df.reset_index(drop = True)\n",
    "df['words_count'] = df['lemma_comment_2'].apply(lambda x: len(x.split()))"
   ]
  },
  {
   "cell_type": "code",
   "execution_count": 35,
   "id": "appropriate-relaxation",
   "metadata": {
    "hidden": true
   },
   "outputs": [
    {
     "data": {
      "text/html": [
       "<div>\n",
       "<style scoped>\n",
       "    .dataframe tbody tr th:only-of-type {\n",
       "        vertical-align: middle;\n",
       "    }\n",
       "\n",
       "    .dataframe tbody tr th {\n",
       "        vertical-align: top;\n",
       "    }\n",
       "\n",
       "    .dataframe thead th {\n",
       "        text-align: right;\n",
       "    }\n",
       "</style>\n",
       "<table border=\"1\" class=\"dataframe\">\n",
       "  <thead>\n",
       "    <tr style=\"text-align: right;\">\n",
       "      <th></th>\n",
       "      <th>comment</th>\n",
       "      <th>date_time</th>\n",
       "      <th>color</th>\n",
       "      <th>size</th>\n",
       "      <th>thumb_up</th>\n",
       "      <th>thumb_down</th>\n",
       "      <th>prod_eval</th>\n",
       "      <th>prod</th>\n",
       "      <th>brand</th>\n",
       "      <th>cleaned_comment</th>\n",
       "      <th>lemma_comment</th>\n",
       "      <th>lemma_comment_2</th>\n",
       "      <th>words_count</th>\n",
       "    </tr>\n",
       "  </thead>\n",
       "  <tbody>\n",
       "    <tr>\n",
       "      <th>86</th>\n",
       "      <td>Соглашусь с теми, кто пишет, что колечко - пре...</td>\n",
       "      <td>2015-08-11T17:56:35+03:00</td>\n",
       "      <td>серебристый</td>\n",
       "      <td></td>\n",
       "      <td>1</td>\n",
       "      <td>0</td>\n",
       "      <td>5</td>\n",
       "      <td>Кольцо</td>\n",
       "      <td>SOKOLOV</td>\n",
       "      <td>соглашусь пишет колечко прелесть аккуратное см...</td>\n",
       "      <td>соглашаться колечко прелесть аккуратный смотре...</td>\n",
       "      <td>соглашаться прелесть аккуратный замечательно</td>\n",
       "      <td>4</td>\n",
       "    </tr>\n",
       "    <tr>\n",
       "      <th>87</th>\n",
       "      <td>Мне кольцо не понравилось, для начинающих, даж...</td>\n",
       "      <td>2015-08-09T18:51:43+03:00</td>\n",
       "      <td>серебристый</td>\n",
       "      <td></td>\n",
       "      <td>4</td>\n",
       "      <td>4</td>\n",
       "      <td>1</td>\n",
       "      <td>Кольцо</td>\n",
       "      <td>SOKOLOV</td>\n",
       "      <td>понравилось начинающих рублей дочке взяла гово...</td>\n",
       "      <td>начинать дочка говориться вкус цвет заказывать...</td>\n",
       "      <td>начинать дочка говориться вкус цвет заказывать...</td>\n",
       "      <td>9</td>\n",
       "    </tr>\n",
       "    <tr>\n",
       "      <th>88</th>\n",
       "      <td>Очень милое и аккуратное колечко)смотрится на ...</td>\n",
       "      <td>2015-08-06T10:37:59+03:00</td>\n",
       "      <td>серебристый</td>\n",
       "      <td></td>\n",
       "      <td>3</td>\n",
       "      <td>0</td>\n",
       "      <td>5</td>\n",
       "      <td>Кольцо</td>\n",
       "      <td>SOKOLOV</td>\n",
       "      <td>милое аккуратное колечкосмотрится дороже ценыи...</td>\n",
       "      <td>милый аккуратный колечкосмотреться дорогой цен...</td>\n",
       "      <td>милый аккуратный колечкосмотреться дорогой цен...</td>\n",
       "      <td>6</td>\n",
       "    </tr>\n",
       "    <tr>\n",
       "      <th>89</th>\n",
       "      <td>очень нежное колечко, понравилось, на солнышке...</td>\n",
       "      <td>2015-06-21T23:00:01+03:00</td>\n",
       "      <td>серебристый</td>\n",
       "      <td></td>\n",
       "      <td>6</td>\n",
       "      <td>0</td>\n",
       "      <td>5</td>\n",
       "      <td>Кольцо</td>\n",
       "      <td>SOKOLOV</td>\n",
       "      <td>нежное колечко понравилось солнышке искусствен...</td>\n",
       "      <td>нежный колечко солнышко искусственный освещени...</td>\n",
       "      <td>нежный солнышко искусственный освещение блесте...</td>\n",
       "      <td>10</td>\n",
       "    </tr>\n",
       "    <tr>\n",
       "      <th>90</th>\n",
       "      <td>Кольцо очень красивое!!! Блестит как настоящий...</td>\n",
       "      <td>2015-05-22T09:28:10+03:00</td>\n",
       "      <td>серебристый</td>\n",
       "      <td></td>\n",
       "      <td>9</td>\n",
       "      <td>0</td>\n",
       "      <td>5</td>\n",
       "      <td>Кольцо</td>\n",
       "      <td>SOKOLOV</td>\n",
       "      <td>красивое блестит настоящий брилллиантна руке с...</td>\n",
       "      <td>красивый блестеть настоящий брилллиантный смот...</td>\n",
       "      <td>блестеть настоящий брилллиантный нежно</td>\n",
       "      <td>4</td>\n",
       "    </tr>\n",
       "  </tbody>\n",
       "</table>\n",
       "</div>"
      ],
      "text/plain": [
       "                                              comment  \\\n",
       "86  Соглашусь с теми, кто пишет, что колечко - пре...   \n",
       "87  Мне кольцо не понравилось, для начинающих, даж...   \n",
       "88  Очень милое и аккуратное колечко)смотрится на ...   \n",
       "89  очень нежное колечко, понравилось, на солнышке...   \n",
       "90  Кольцо очень красивое!!! Блестит как настоящий...   \n",
       "\n",
       "                    date_time        color size thumb_up thumb_down prod_eval  \\\n",
       "86  2015-08-11T17:56:35+03:00  серебристый             1          0         5   \n",
       "87  2015-08-09T18:51:43+03:00  серебристый             4          4         1   \n",
       "88  2015-08-06T10:37:59+03:00  серебристый             3          0         5   \n",
       "89  2015-06-21T23:00:01+03:00  серебристый             6          0         5   \n",
       "90  2015-05-22T09:28:10+03:00  серебристый             9          0         5   \n",
       "\n",
       "      prod    brand                                    cleaned_comment  \\\n",
       "86  Кольцо  SOKOLOV  соглашусь пишет колечко прелесть аккуратное см...   \n",
       "87  Кольцо  SOKOLOV  понравилось начинающих рублей дочке взяла гово...   \n",
       "88  Кольцо  SOKOLOV  милое аккуратное колечкосмотрится дороже ценыи...   \n",
       "89  Кольцо  SOKOLOV  нежное колечко понравилось солнышке искусствен...   \n",
       "90  Кольцо  SOKOLOV  красивое блестит настоящий брилллиантна руке с...   \n",
       "\n",
       "                                        lemma_comment  \\\n",
       "86  соглашаться колечко прелесть аккуратный смотре...   \n",
       "87  начинать дочка говориться вкус цвет заказывать...   \n",
       "88  милый аккуратный колечкосмотреться дорогой цен...   \n",
       "89  нежный колечко солнышко искусственный освещени...   \n",
       "90  красивый блестеть настоящий брилллиантный смот...   \n",
       "\n",
       "                                      lemma_comment_2  words_count  \n",
       "86       соглашаться прелесть аккуратный замечательно            4  \n",
       "87  начинать дочка говориться вкус цвет заказывать...            9  \n",
       "88  милый аккуратный колечкосмотреться дорогой цен...            6  \n",
       "89  нежный солнышко искусственный освещение блесте...           10  \n",
       "90             блестеть настоящий брилллиантный нежно            4  "
      ]
     },
     "execution_count": 35,
     "metadata": {},
     "output_type": "execute_result"
    }
   ],
   "source": [
    "#remove all comments, with amount of words<=3\n",
    "df = df.drop(df[df['words_count']<=3].index).reset_index(drop = True)\n",
    "df.tail()"
   ]
  },
  {
   "cell_type": "code",
   "execution_count": 36,
   "id": "human-royalty",
   "metadata": {
    "hidden": true
   },
   "outputs": [],
   "source": [
    "preprocessed_comments_2 = df['lemma_comment_2']"
   ]
  },
  {
   "cell_type": "code",
   "execution_count": 37,
   "id": "efficient-breathing",
   "metadata": {
    "hidden": true
   },
   "outputs": [],
   "source": [
    "vectorizer2 = TfidfVectorizer(min_df=2)\n",
    "vectorized_comments_2 = vectorizer2.fit_transform(preprocessed_comments_2)"
   ]
  },
  {
   "cell_type": "code",
   "execution_count": 38,
   "id": "ready-morning",
   "metadata": {
    "hidden": true
   },
   "outputs": [],
   "source": [
    "# creating a dictionary mapping the tokens to their idf values\n",
    "idf2 = dict(zip(vectorizer2.get_feature_names(), vectorizer2.idf_))\n",
    "idf2 = pd.DataFrame(columns=['idf']).from_dict(\n",
    "                    dict(idf2), orient='index')\n",
    "idf2.columns = ['idf']"
   ]
  },
  {
   "cell_type": "markdown",
   "id": "perceived-apollo",
   "metadata": {
    "heading_collapsed": true
   },
   "source": [
    "# IDF2 result and Spacy2"
   ]
  },
  {
   "cell_type": "code",
   "execution_count": 39,
   "id": "undefined-briefs",
   "metadata": {
    "hidden": true
   },
   "outputs": [
    {
     "data": {
      "text/html": [
       "<div>\n",
       "<style scoped>\n",
       "    .dataframe tbody tr th:only-of-type {\n",
       "        vertical-align: middle;\n",
       "    }\n",
       "\n",
       "    .dataframe tbody tr th {\n",
       "        vertical-align: top;\n",
       "    }\n",
       "\n",
       "    .dataframe thead th {\n",
       "        text-align: right;\n",
       "    }\n",
       "</style>\n",
       "<table border=\"1\" class=\"dataframe\">\n",
       "  <thead>\n",
       "    <tr style=\"text-align: right;\">\n",
       "      <th></th>\n",
       "      <th>idf</th>\n",
       "    </tr>\n",
       "  </thead>\n",
       "  <tbody>\n",
       "    <tr>\n",
       "      <th>0</th>\n",
       "      <td>фианит</td>\n",
       "    </tr>\n",
       "    <tr>\n",
       "      <th>1</th>\n",
       "      <td>камушек</td>\n",
       "    </tr>\n",
       "    <tr>\n",
       "      <th>2</th>\n",
       "      <td>серебро</td>\n",
       "    </tr>\n",
       "    <tr>\n",
       "      <th>3</th>\n",
       "      <td>аккуратный</td>\n",
       "    </tr>\n",
       "    <tr>\n",
       "      <th>4</th>\n",
       "      <td>проба</td>\n",
       "    </tr>\n",
       "  </tbody>\n",
       "</table>\n",
       "</div>"
      ],
      "text/plain": [
       "          idf\n",
       "0      фианит\n",
       "1     камушек\n",
       "2     серебро\n",
       "3  аккуратный\n",
       "4       проба"
      ]
     },
     "execution_count": 39,
     "metadata": {},
     "output_type": "execute_result"
    }
   ],
   "source": [
    "idf2 = idf2.sort_values(by=['idf'], ascending=True)\n",
    "idf2_res = pd.DataFrame(final_topics(idf2), columns = ['idf'])\n",
    "idf2_res"
   ]
  },
  {
   "cell_type": "code",
   "execution_count": 40,
   "id": "actual-mouse",
   "metadata": {
    "hidden": true
   },
   "outputs": [
    {
     "data": {
      "text/plain": [
       "['мне очень понравилось! купила дочке 17 лет на новый год, блестящее и нарядное, 16 рр соответствует. упаковка тоже норм, можно так дарить. 600 р']"
      ]
     },
     "execution_count": 40,
     "metadata": {},
     "output_type": "execute_result"
    }
   ],
   "source": [
    "top_10_similar('подарок',df, 'lemma_comment_2')"
   ]
  },
  {
   "cell_type": "markdown",
   "id": "a6c8de09",
   "metadata": {
    "heading_collapsed": true
   },
   "source": [
    "# Cloud of Words"
   ]
  },
  {
   "cell_type": "code",
   "execution_count": 41,
   "id": "known-photograph",
   "metadata": {
    "hidden": true
   },
   "outputs": [],
   "source": [
    "mask = np.array(Image.open('../berry.jpg'))\n",
    "def new_wordcloud(tf_idf_indexes):\n",
    "    unique_string=(\" \").join(tf_idf_indexes)\n",
    "    wordcloud = WordCloud(background_color='white', \n",
    "                          mask=mask,\n",
    "                          width = mask.shape[1], \n",
    "                          height = mask.shape[0],\n",
    "                          contour_width=3,\n",
    "                          contour_color='red').generate(unique_string)\n",
    "    plt.figure(figsize=(12,8))\n",
    "    plt.imshow(wordcloud)\n",
    "    plt.axis(\"off\")\n",
    "    plt.show()\n",
    "    plt.close()"
   ]
  },
  {
   "cell_type": "code",
   "execution_count": 42,
   "id": "premium-advancement",
   "metadata": {
    "hidden": true
   },
   "outputs": [
    {
     "data": {
      "image/png": "[encoded data removed]",
      "text/plain": [
       "<Figure size 864x576 with 1 Axes>"
      ]
     },
     "metadata": {
      "needs_background": "light"
     },
     "output_type": "display_data"
    }
   ],
   "source": [
    "new_wordcloud(idf2.head(20).index)"
   ]
  },
  {
   "cell_type": "code",
   "execution_count": 43,
   "id": "9d690730",
   "metadata": {
    "hidden": true
   },
   "outputs": [
    {
     "data": {
      "image/png": "[encoded data removed]",
      "text/plain": [
       "<Figure size 864x576 with 1 Axes>"
      ]
     },
     "metadata": {
      "needs_background": "light"
     },
     "output_type": "display_data"
    }
   ],
   "source": [
    "mask = np.array(Image.open('../berry.jpg'))\n",
    "def new_wordcloud(tf_idf_indexes):\n",
    "    unique_string=(\" \").join(tf_idf_indexes)\n",
    "    wordcloud = WordCloud(background_color='white', \n",
    "                          mask=mask,\n",
    "                          width = mask.shape[1], \n",
    "                          height = mask.shape[0],\n",
    "                          contour_width=3,\n",
    "                          contour_color='red').generate(unique_string)\n",
    "    plt.figure(figsize=(12,8))\n",
    "    plt.imshow(wordcloud)\n",
    "    plt.axis(\"off\")\n",
    "    plt.show()\n",
    "    plt.close()\n",
    "\n",
    "new_wordcloud(idf2.head(20).index)"
   ]
  },
  {
   "cell_type": "markdown",
   "id": "8dfdd6e5",
   "metadata": {
    "heading_collapsed": true
   },
   "source": [
    "# Saving preprocessed csv"
   ]
  },
  {
   "cell_type": "code",
   "execution_count": 44,
   "id": "db143976",
   "metadata": {
    "hidden": true
   },
   "outputs": [],
   "source": [
    "df.to_csv('preprocessed_df.csv', index=False)"
   ]
  },
  {
   "cell_type": "code",
   "execution_count": null,
   "id": "a37ab319",
   "metadata": {
    "hidden": true
   },
   "outputs": [],
   "source": []
  }
 ],
 "metadata": {
  "kernelspec": {
   "display_name": "Python 3",
   "language": "python",
   "name": "python3"
  },
  "language_info": {
   "codemirror_mode": {
    "name": "ipython",
    "version": 3
   },
   "file_extension": ".py",
   "mimetype": "text/x-python",
   "name": "python",
   "nbconvert_exporter": "python",
   "pygments_lexer": "ipython3",
   "version": "3.8.6"
  },
  "varInspector": {
   "cols": {
    "lenName": 16,
    "lenType": 16,
    "lenVar": 40
   },
   "kernels_config": {
    "python": {
     "delete_cmd_postfix": "",
     "delete_cmd_prefix": "del ",
     "library": "var_list.py",
     "varRefreshCmd": "print(var_dic_list())"
    },
    "r": {
     "delete_cmd_postfix": ") ",
     "delete_cmd_prefix": "rm(",
     "library": "var_list.r",
     "varRefreshCmd": "cat(var_dic_list()) "
    }
   },
   "types_to_exclude": [
    "module",
    "function",
    "builtin_function_or_method",
    "instance",
    "_Feature"
   ],
   "window_display": false
  }
 },
 "nbformat": 4,
 "nbformat_minor": 5
}
