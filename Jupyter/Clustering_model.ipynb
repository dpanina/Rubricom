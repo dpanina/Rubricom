{
 "cells": [
  {
   "cell_type": "code",
   "execution_count": 29,
   "id": "dressed-hunger",
   "metadata": {},
   "outputs": [],
   "source": [
    "import pandas as pd\n",
    "import os\n",
    "import matplotlib.pyplot as plt\n",
    "from matplotlib import cm as cm\n",
    "import numpy as np\n",
    "import re\n",
    "\n",
    "\n",
    "from pymystem3 import Mystem\n",
    "\n",
    "from sklearn.feature_extraction.text import TfidfVectorizer\n",
    "from sklearn.cluster import KMeans\n",
    "from sklearn.metrics import silhouette_score\n",
    "\n",
    "import warnings\n",
    "warnings.filterwarnings(\"ignore\", category=DeprecationWarning)"
   ]
  },
  {
   "cell_type": "markdown",
   "id": "jewish-consortium",
   "metadata": {
    "heading_collapsed": true
   },
   "source": [
    "# Download preprocessed df"
   ]
  },
  {
   "cell_type": "code",
   "execution_count": 30,
   "id": "consistent-infrastructure",
   "metadata": {
    "hidden": true
   },
   "outputs": [
    {
     "data": {
      "text/html": [
       "<div>\n",
       "<style scoped>\n",
       "    .dataframe tbody tr th:only-of-type {\n",
       "        vertical-align: middle;\n",
       "    }\n",
       "\n",
       "    .dataframe tbody tr th {\n",
       "        vertical-align: top;\n",
       "    }\n",
       "\n",
       "    .dataframe thead th {\n",
       "        text-align: right;\n",
       "    }\n",
       "</style>\n",
       "<table border=\"1\" class=\"dataframe\">\n",
       "  <thead>\n",
       "    <tr style=\"text-align: right;\">\n",
       "      <th></th>\n",
       "      <th>comment</th>\n",
       "      <th>date_time</th>\n",
       "      <th>color</th>\n",
       "      <th>size</th>\n",
       "      <th>thumb_up</th>\n",
       "      <th>thumb_down</th>\n",
       "      <th>prod_eval</th>\n",
       "      <th>prod</th>\n",
       "      <th>brand</th>\n",
       "      <th>cleaned_comment</th>\n",
       "      <th>lemma_comment</th>\n",
       "      <th>lemma_comment_2</th>\n",
       "      <th>words_count</th>\n",
       "    </tr>\n",
       "  </thead>\n",
       "  <tbody>\n",
       "    <tr>\n",
       "      <th>0</th>\n",
       "      <td>Хорошее колечко, получила 20 марта, ни один ка...</td>\n",
       "      <td>2021-04-20T09:13:31Z</td>\n",
       "      <td>серебристый</td>\n",
       "      <td>18</td>\n",
       "      <td>0</td>\n",
       "      <td>1</td>\n",
       "      <td>4</td>\n",
       "      <td>Кольцо</td>\n",
       "      <td>SOKOLOV</td>\n",
       "      <td>хорошее колечко получила марта камушек выпал н...</td>\n",
       "      <td>колечко получать марта камушек выпадать носить...</td>\n",
       "      <td>получать марта камушек выпадать носить либо по...</td>\n",
       "      <td>12</td>\n",
       "    </tr>\n",
       "    <tr>\n",
       "      <th>1</th>\n",
       "      <td>Спустя месяц выпал камень при аккуратном ношен...</td>\n",
       "      <td>2021-03-09T20:34:29Z</td>\n",
       "      <td>серебристый</td>\n",
       "      <td>17</td>\n",
       "      <td>1</td>\n",
       "      <td>0</td>\n",
       "      <td>1</td>\n",
       "      <td>Кольцо</td>\n",
       "      <td>SOKOLOV</td>\n",
       "      <td>спустя месяц выпал камень аккуратном ношении и...</td>\n",
       "      <td>спустя месяц выпадать камень аккуратный ношени...</td>\n",
       "      <td>спустя месяц выпадать аккуратный ношение интер...</td>\n",
       "      <td>11</td>\n",
       "    </tr>\n",
       "    <tr>\n",
       "      <th>2</th>\n",
       "      <td>Очееень красивое колечко, очень жаль, что выпа...</td>\n",
       "      <td>2021-02-02T09:54:05Z</td>\n",
       "      <td>серебристый</td>\n",
       "      <td>17</td>\n",
       "      <td>1</td>\n",
       "      <td>1</td>\n",
       "      <td>5</td>\n",
       "      <td>Кольцо</td>\n",
       "      <td>SOKOLOV</td>\n",
       "      <td>очееень красивое колечко жаль выпал стразик пр...</td>\n",
       "      <td>очееень красивый колечко жаль выпадать стразик...</td>\n",
       "      <td>очееень жаль выпадать стразик проходить месяц</td>\n",
       "      <td>6</td>\n",
       "    </tr>\n",
       "    <tr>\n",
       "      <th>3</th>\n",
       "      <td>Очень красивое, изящное и нежное колечко, каму...</td>\n",
       "      <td>2021-01-29T18:14:08Z</td>\n",
       "      <td>серебристый</td>\n",
       "      <td>16</td>\n",
       "      <td>1</td>\n",
       "      <td>0</td>\n",
       "      <td>5</td>\n",
       "      <td>Кольцо</td>\n",
       "      <td>SOKOLOV</td>\n",
       "      <td>красивое изящное нежное колечко камушки сверкают</td>\n",
       "      <td>красивый изящный нежный колечко камушек сверкать</td>\n",
       "      <td>изящный нежный камушек сверкать</td>\n",
       "      <td>4</td>\n",
       "    </tr>\n",
       "    <tr>\n",
       "      <th>4</th>\n",
       "      <td>Кольцо само по себе ну оч красивое, и камушки ...</td>\n",
       "      <td>2021-01-23T10:40:45Z</td>\n",
       "      <td>серебристый</td>\n",
       "      <td>16</td>\n",
       "      <td>3</td>\n",
       "      <td>2</td>\n",
       "      <td>3</td>\n",
       "      <td>Кольцо</td>\n",
       "      <td>SOKOLOV</td>\n",
       "      <td>красивое камушки блестят размер ойй знаю проко...</td>\n",
       "      <td>красивый камушек блестеть размер ойй прокол ра...</td>\n",
       "      <td>камушек блестеть ойй прокол оооочень еле мизин...</td>\n",
       "      <td>10</td>\n",
       "    </tr>\n",
       "  </tbody>\n",
       "</table>\n",
       "</div>"
      ],
      "text/plain": [
       "                                             comment             date_time  \\\n",
       "0  Хорошее колечко, получила 20 марта, ни один ка...  2021-04-20T09:13:31Z   \n",
       "1  Спустя месяц выпал камень при аккуратном ношен...  2021-03-09T20:34:29Z   \n",
       "2  Очееень красивое колечко, очень жаль, что выпа...  2021-02-02T09:54:05Z   \n",
       "3  Очень красивое, изящное и нежное колечко, каму...  2021-01-29T18:14:08Z   \n",
       "4  Кольцо само по себе ну оч красивое, и камушки ...  2021-01-23T10:40:45Z   \n",
       "\n",
       "         color size  thumb_up  thumb_down  prod_eval    prod    brand  \\\n",
       "0  серебристый   18         0           1          4  Кольцо  SOKOLOV   \n",
       "1  серебристый   17         1           0          1  Кольцо  SOKOLOV   \n",
       "2  серебристый   17         1           1          5  Кольцо  SOKOLOV   \n",
       "3  серебристый   16         1           0          5  Кольцо  SOKOLOV   \n",
       "4  серебристый   16         3           2          3  Кольцо  SOKOLOV   \n",
       "\n",
       "                                     cleaned_comment  \\\n",
       "0  хорошее колечко получила марта камушек выпал н...   \n",
       "1  спустя месяц выпал камень аккуратном ношении и...   \n",
       "2  очееень красивое колечко жаль выпал стразик пр...   \n",
       "3   красивое изящное нежное колечко камушки сверкают   \n",
       "4  красивое камушки блестят размер ойй знаю проко...   \n",
       "\n",
       "                                       lemma_comment  \\\n",
       "0  колечко получать марта камушек выпадать носить...   \n",
       "1  спустя месяц выпадать камень аккуратный ношени...   \n",
       "2  очееень красивый колечко жаль выпадать стразик...   \n",
       "3   красивый изящный нежный колечко камушек сверкать   \n",
       "4  красивый камушек блестеть размер ойй прокол ра...   \n",
       "\n",
       "                                     lemma_comment_2  words_count  \n",
       "0  получать марта камушек выпадать носить либо по...           12  \n",
       "1  спустя месяц выпадать аккуратный ношение интер...           11  \n",
       "2      очееень жаль выпадать стразик проходить месяц            6  \n",
       "3                    изящный нежный камушек сверкать            4  \n",
       "4  камушек блестеть ойй прокол оооочень еле мизин...           10  "
      ]
     },
     "execution_count": 30,
     "metadata": {},
     "output_type": "execute_result"
    }
   ],
   "source": [
    "df = pd.read_csv('./preprocessed_df.csv')\n",
    "df.shape\n",
    "df.head()"
   ]
  },
  {
   "cell_type": "markdown",
   "id": "regional-parallel",
   "metadata": {
    "heading_collapsed": true
   },
   "source": [
    "# Clustering"
   ]
  },
  {
   "cell_type": "code",
   "execution_count": 31,
   "id": "boring-peace",
   "metadata": {
    "hidden": true
   },
   "outputs": [
    {
     "data": {
      "text/html": [
       "<div>\n",
       "<style scoped>\n",
       "    .dataframe tbody tr th:only-of-type {\n",
       "        vertical-align: middle;\n",
       "    }\n",
       "\n",
       "    .dataframe tbody tr th {\n",
       "        vertical-align: top;\n",
       "    }\n",
       "\n",
       "    .dataframe thead th {\n",
       "        text-align: right;\n",
       "    }\n",
       "</style>\n",
       "<table border=\"1\" class=\"dataframe\">\n",
       "  <thead>\n",
       "    <tr style=\"text-align: right;\">\n",
       "      <th></th>\n",
       "      <th>comment</th>\n",
       "      <th>date_time</th>\n",
       "      <th>color</th>\n",
       "      <th>size</th>\n",
       "      <th>thumb_up</th>\n",
       "      <th>thumb_down</th>\n",
       "      <th>prod_eval</th>\n",
       "      <th>prod</th>\n",
       "      <th>brand</th>\n",
       "      <th>cleaned_comment</th>\n",
       "      <th>lemma_comment</th>\n",
       "      <th>lemma_comment_2</th>\n",
       "      <th>words_count</th>\n",
       "    </tr>\n",
       "  </thead>\n",
       "  <tbody>\n",
       "    <tr>\n",
       "      <th>0</th>\n",
       "      <td>Хорошее колечко, получила 20 марта, ни один ка...</td>\n",
       "      <td>2021-04-20T09:13:31Z</td>\n",
       "      <td>серебристый</td>\n",
       "      <td>18</td>\n",
       "      <td>0</td>\n",
       "      <td>1</td>\n",
       "      <td>4</td>\n",
       "      <td>Кольцо</td>\n",
       "      <td>SOKOLOV</td>\n",
       "      <td>хорошее колечко получила марта камушек выпал н...</td>\n",
       "      <td>колечко получать марта камушек выпадать носить...</td>\n",
       "      <td>получать марта камушек выпадать носить либо по...</td>\n",
       "      <td>12</td>\n",
       "    </tr>\n",
       "    <tr>\n",
       "      <th>1</th>\n",
       "      <td>Спустя месяц выпал камень при аккуратном ношен...</td>\n",
       "      <td>2021-03-09T20:34:29Z</td>\n",
       "      <td>серебристый</td>\n",
       "      <td>17</td>\n",
       "      <td>1</td>\n",
       "      <td>0</td>\n",
       "      <td>1</td>\n",
       "      <td>Кольцо</td>\n",
       "      <td>SOKOLOV</td>\n",
       "      <td>спустя месяц выпал камень аккуратном ношении и...</td>\n",
       "      <td>спустя месяц выпадать камень аккуратный ношени...</td>\n",
       "      <td>спустя месяц выпадать аккуратный ношение интер...</td>\n",
       "      <td>11</td>\n",
       "    </tr>\n",
       "    <tr>\n",
       "      <th>2</th>\n",
       "      <td>Очееень красивое колечко, очень жаль, что выпа...</td>\n",
       "      <td>2021-02-02T09:54:05Z</td>\n",
       "      <td>серебристый</td>\n",
       "      <td>17</td>\n",
       "      <td>1</td>\n",
       "      <td>1</td>\n",
       "      <td>5</td>\n",
       "      <td>Кольцо</td>\n",
       "      <td>SOKOLOV</td>\n",
       "      <td>очееень красивое колечко жаль выпал стразик пр...</td>\n",
       "      <td>очееень красивый колечко жаль выпадать стразик...</td>\n",
       "      <td>очееень жаль выпадать стразик проходить месяц</td>\n",
       "      <td>6</td>\n",
       "    </tr>\n",
       "  </tbody>\n",
       "</table>\n",
       "</div>"
      ],
      "text/plain": [
       "                                             comment             date_time  \\\n",
       "0  Хорошее колечко, получила 20 марта, ни один ка...  2021-04-20T09:13:31Z   \n",
       "1  Спустя месяц выпал камень при аккуратном ношен...  2021-03-09T20:34:29Z   \n",
       "2  Очееень красивое колечко, очень жаль, что выпа...  2021-02-02T09:54:05Z   \n",
       "\n",
       "         color size  thumb_up  thumb_down  prod_eval    prod    brand  \\\n",
       "0  серебристый   18         0           1          4  Кольцо  SOKOLOV   \n",
       "1  серебристый   17         1           0          1  Кольцо  SOKOLOV   \n",
       "2  серебристый   17         1           1          5  Кольцо  SOKOLOV   \n",
       "\n",
       "                                     cleaned_comment  \\\n",
       "0  хорошее колечко получила марта камушек выпал н...   \n",
       "1  спустя месяц выпал камень аккуратном ношении и...   \n",
       "2  очееень красивое колечко жаль выпал стразик пр...   \n",
       "\n",
       "                                       lemma_comment  \\\n",
       "0  колечко получать марта камушек выпадать носить...   \n",
       "1  спустя месяц выпадать камень аккуратный ношени...   \n",
       "2  очееень красивый колечко жаль выпадать стразик...   \n",
       "\n",
       "                                     lemma_comment_2  words_count  \n",
       "0  получать марта камушек выпадать носить либо по...           12  \n",
       "1  спустя месяц выпадать аккуратный ношение интер...           11  \n",
       "2      очееень жаль выпадать стразик проходить месяц            6  "
      ]
     },
     "execution_count": 31,
     "metadata": {},
     "output_type": "execute_result"
    }
   ],
   "source": [
    "df.head(3)"
   ]
  },
  {
   "cell_type": "code",
   "execution_count": 32,
   "id": "yellow-listing",
   "metadata": {
    "hidden": true
   },
   "outputs": [],
   "source": [
    "comments_clean = df['lemma_comment_2']"
   ]
  },
  {
   "cell_type": "code",
   "execution_count": 33,
   "id": "experimental-dakota",
   "metadata": {
    "hidden": true
   },
   "outputs": [
    {
     "name": "stderr",
     "output_type": "stream",
     "text": [
      "/opt/homebrew/Caskroom/miniforge/base/envs/tf_env/lib/python3.8/site-packages/sklearn/utils/validation.py:70: FutureWarning: Pass input=1000 as keyword args. From version 1.0 (renaming of 0.25) passing these as positional arguments will result in an error\n",
      "  warnings.warn(f\"Pass {args_msg} as keyword args. From version \"\n"
     ]
    },
    {
     "data": {
      "text/plain": [
       "(91, 533)"
      ]
     },
     "execution_count": 33,
     "metadata": {},
     "output_type": "execute_result"
    }
   ],
   "source": [
    "#Matrix document - vocabularly, vocab - 1000 words\n",
    "tfidf_clust = TfidfVectorizer(1000).fit(comments_clean)\n",
    "X_matrix =  tfidf_clust.transform(comments_clean).toarray()\n",
    "X_matrix.shape"
   ]
  },
  {
   "cell_type": "code",
   "execution_count": 34,
   "id": "rotary-still",
   "metadata": {
    "hidden": true
   },
   "outputs": [],
   "source": [
    "#fitting clust model\n",
    "clf = KMeans(n_clusters=5, max_iter=1000, n_init=5, random_state = 10)\n",
    "clf.fit(X_matrix)\n",
    "cluster_labels = clf.labels_\n",
    "        \n",
    "clust_centers = clf.cluster_centers_\n",
    "        \n",
    "silhouette = silhouette_score(X_matrix, cluster_labels, metric='euclidean')\n"
   ]
  },
  {
   "cell_type": "code",
   "execution_count": 35,
   "id": "planned-anchor",
   "metadata": {
    "hidden": true
   },
   "outputs": [
    {
     "data": {
      "text/plain": [
       "array([[ 7.36998160e-03,  1.24491289e-02, -4.33680869e-19, ...,\n",
       "         4.19578790e-03,  1.63639139e-02,  1.73472348e-18],\n",
       "       [-1.30104261e-18,  0.00000000e+00,  0.00000000e+00, ...,\n",
       "         1.75649509e-02,  8.67361738e-19,  0.00000000e+00],\n",
       "       [-1.30104261e-18,  3.75975248e-02,  1.73464397e-02, ...,\n",
       "         8.67361738e-19,  0.00000000e+00,  3.23598996e-02],\n",
       "       [-1.30104261e-18,  1.73472348e-18,  0.00000000e+00, ...,\n",
       "         8.67361738e-19,  0.00000000e+00,  8.67361738e-19],\n",
       "       [-1.30104261e-18,  1.73472348e-18, -4.33680869e-19, ...,\n",
       "         0.00000000e+00,  0.00000000e+00,  0.00000000e+00]])"
      ]
     },
     "execution_count": 35,
     "metadata": {},
     "output_type": "execute_result"
    }
   ],
   "source": [
    "clust_centers"
   ]
  },
  {
   "cell_type": "code",
   "execution_count": 36,
   "id": "fresh-abraham",
   "metadata": {
    "hidden": true
   },
   "outputs": [
    {
     "data": {
      "text/plain": [
       "0.00975384531473908"
      ]
     },
     "execution_count": 36,
     "metadata": {},
     "output_type": "execute_result"
    }
   ],
   "source": [
    "silhouette"
   ]
  },
  {
   "cell_type": "code",
   "execution_count": 37,
   "id": "engaging-episode",
   "metadata": {
    "hidden": true
   },
   "outputs": [
    {
     "name": "stdout",
     "output_type": "stream",
     "text": [
      "[[ 0 40]\n",
      " [ 1 15]\n",
      " [ 2 13]\n",
      " [ 3 13]\n",
      " [ 4 10]]\n"
     ]
    }
   ],
   "source": [
    "unique, counts = np.unique(cluster_labels, return_counts=True)\n",
    "print (np.asarray((unique, counts)).T)"
   ]
  },
  {
   "cell_type": "code",
   "execution_count": 38,
   "id": "apart-commitment",
   "metadata": {
    "hidden": true
   },
   "outputs": [
    {
     "data": {
      "text/plain": [
       "((91, 533), (91,), (91,))"
      ]
     },
     "execution_count": 38,
     "metadata": {},
     "output_type": "execute_result"
    }
   ],
   "source": [
    "X_matrix.shape, cluster_labels.shape, comments_clean.shape"
   ]
  },
  {
   "cell_type": "code",
   "execution_count": 39,
   "id": "stainless-shock",
   "metadata": {
    "hidden": true
   },
   "outputs": [],
   "source": [
    "df_clust = pd.DataFrame(df['comment'].to_numpy(), columns = ['comment'])"
   ]
  },
  {
   "cell_type": "code",
   "execution_count": 40,
   "id": "illegal-prerequisite",
   "metadata": {
    "hidden": true
   },
   "outputs": [],
   "source": [
    "#add cluster label to each comment\n",
    "df_clust['cluster'] = cluster_labels"
   ]
  },
  {
   "cell_type": "code",
   "execution_count": 41,
   "id": "opened-shock",
   "metadata": {
    "hidden": true
   },
   "outputs": [],
   "source": [
    "df_clust['lemma_comment_2'] = df['lemma_comment_2'] "
   ]
  },
  {
   "cell_type": "code",
   "execution_count": 42,
   "id": "seasonal-barcelona",
   "metadata": {
    "hidden": true
   },
   "outputs": [],
   "source": [
    "df_clust = df_clust.reset_index()"
   ]
  },
  {
   "cell_type": "code",
   "execution_count": 43,
   "id": "rental-shipping",
   "metadata": {
    "hidden": true
   },
   "outputs": [
    {
     "data": {
      "text/html": [
       "<div>\n",
       "<style scoped>\n",
       "    .dataframe tbody tr th:only-of-type {\n",
       "        vertical-align: middle;\n",
       "    }\n",
       "\n",
       "    .dataframe tbody tr th {\n",
       "        vertical-align: top;\n",
       "    }\n",
       "\n",
       "    .dataframe thead th {\n",
       "        text-align: right;\n",
       "    }\n",
       "</style>\n",
       "<table border=\"1\" class=\"dataframe\">\n",
       "  <thead>\n",
       "    <tr style=\"text-align: right;\">\n",
       "      <th></th>\n",
       "      <th>index</th>\n",
       "      <th>comment</th>\n",
       "      <th>cluster</th>\n",
       "      <th>lemma_comment_2</th>\n",
       "    </tr>\n",
       "  </thead>\n",
       "  <tbody>\n",
       "    <tr>\n",
       "      <th>0</th>\n",
       "      <td>0</td>\n",
       "      <td>Хорошее колечко, получила 20 марта, ни один ка...</td>\n",
       "      <td>1</td>\n",
       "      <td>получать марта камушек выпадать носить либо по...</td>\n",
       "    </tr>\n",
       "    <tr>\n",
       "      <th>1</th>\n",
       "      <td>1</td>\n",
       "      <td>Спустя месяц выпал камень при аккуратном ношен...</td>\n",
       "      <td>0</td>\n",
       "      <td>спустя месяц выпадать аккуратный ношение интер...</td>\n",
       "    </tr>\n",
       "    <tr>\n",
       "      <th>2</th>\n",
       "      <td>2</td>\n",
       "      <td>Очееень красивое колечко, очень жаль, что выпа...</td>\n",
       "      <td>0</td>\n",
       "      <td>очееень жаль выпадать стразик проходить месяц</td>\n",
       "    </tr>\n",
       "    <tr>\n",
       "      <th>3</th>\n",
       "      <td>3</td>\n",
       "      <td>Очень красивое, изящное и нежное колечко, каму...</td>\n",
       "      <td>1</td>\n",
       "      <td>изящный нежный камушек сверкать</td>\n",
       "    </tr>\n",
       "    <tr>\n",
       "      <th>4</th>\n",
       "      <td>4</td>\n",
       "      <td>Кольцо само по себе ну оч красивое, и камушки ...</td>\n",
       "      <td>2</td>\n",
       "      <td>камушек блестеть ойй прокол оооочень еле мизин...</td>\n",
       "    </tr>\n",
       "  </tbody>\n",
       "</table>\n",
       "</div>"
      ],
      "text/plain": [
       "   index                                            comment  cluster  \\\n",
       "0      0  Хорошее колечко, получила 20 марта, ни один ка...        1   \n",
       "1      1  Спустя месяц выпал камень при аккуратном ношен...        0   \n",
       "2      2  Очееень красивое колечко, очень жаль, что выпа...        0   \n",
       "3      3  Очень красивое, изящное и нежное колечко, каму...        1   \n",
       "4      4  Кольцо само по себе ну оч красивое, и камушки ...        2   \n",
       "\n",
       "                                     lemma_comment_2  \n",
       "0  получать марта камушек выпадать носить либо по...  \n",
       "1  спустя месяц выпадать аккуратный ношение интер...  \n",
       "2      очееень жаль выпадать стразик проходить месяц  \n",
       "3                    изящный нежный камушек сверкать  \n",
       "4  камушек блестеть ойй прокол оооочень еле мизин...  "
      ]
     },
     "execution_count": 43,
     "metadata": {},
     "output_type": "execute_result"
    }
   ],
   "source": [
    "df_clust.head()"
   ]
  },
  {
   "cell_type": "code",
   "execution_count": 44,
   "id": "acoustic-certification",
   "metadata": {
    "hidden": true
   },
   "outputs": [],
   "source": [
    "df_clust['vector'] = df_clust['index'].apply(lambda x: X_matrix[x])"
   ]
  },
  {
   "cell_type": "code",
   "execution_count": 45,
   "id": "answering-eight",
   "metadata": {
    "hidden": true
   },
   "outputs": [],
   "source": [
    "#sum all vector coordinas in order to delete 0 vectors\n",
    "df_clust['sum_vec'] = df_clust['vector'].apply(lambda x: sum(x))"
   ]
  },
  {
   "cell_type": "code",
   "execution_count": 46,
   "id": "5df203d0",
   "metadata": {
    "hidden": true
   },
   "outputs": [
    {
     "data": {
      "text/plain": [
       "0     [0.0, 0.0, 0.0, 0.0, 0.0, 0.0, 0.0, 0.0, 0.0, ...\n",
       "1     [0.0, 0.0, 0.0, 0.23655001273557275, 0.0, 0.0,...\n",
       "2     [0.0, 0.0, 0.0, 0.0, 0.0, 0.0, 0.0, 0.0, 0.0, ...\n",
       "3     [0.0, 0.0, 0.0, 0.0, 0.0, 0.0, 0.0, 0.0, 0.0, ...\n",
       "4     [0.0, 0.0, 0.0, 0.0, 0.0, 0.0, 0.0, 0.0, 0.0, ...\n",
       "                            ...                        \n",
       "86    [0.0, 0.0, 0.0, 0.38779166648156, 0.0, 0.0, 0....\n",
       "87    [0.0, 0.0, 0.0, 0.0, 0.0, 0.0, 0.0, 0.0, 0.0, ...\n",
       "88    [0.0, 0.0, 0.0, 0.322199146604588, 0.0, 0.0, 0...\n",
       "89    [0.0, 0.0, 0.0, 0.0, 0.0, 0.0, 0.0, 0.0, 0.0, ...\n",
       "90    [0.0, 0.0, 0.0, 0.0, 0.0, 0.0, 0.0, 0.0, 0.0, ...\n",
       "Name: vector, Length: 91, dtype: object"
      ]
     },
     "execution_count": 46,
     "metadata": {},
     "output_type": "execute_result"
    }
   ],
   "source": [
    "df_clust['vector']"
   ]
  },
  {
   "cell_type": "code",
   "execution_count": 47,
   "id": "bigger-technique",
   "metadata": {
    "hidden": true
   },
   "outputs": [],
   "source": [
    "df_clust = df_clust.drop(df_clust[df_clust['sum_vec'] == 0].index).reset_index(drop = True)"
   ]
  },
  {
   "cell_type": "code",
   "execution_count": 48,
   "id": "racial-arrangement",
   "metadata": {
    "hidden": true
   },
   "outputs": [],
   "source": [
    "df_clust = df_clust.drop(columns='index').reset_index()"
   ]
  },
  {
   "cell_type": "code",
   "execution_count": 49,
   "id": "progressive-campaign",
   "metadata": {
    "hidden": true
   },
   "outputs": [
    {
     "data": {
      "text/html": [
       "<div>\n",
       "<style scoped>\n",
       "    .dataframe tbody tr th:only-of-type {\n",
       "        vertical-align: middle;\n",
       "    }\n",
       "\n",
       "    .dataframe tbody tr th {\n",
       "        vertical-align: top;\n",
       "    }\n",
       "\n",
       "    .dataframe thead th {\n",
       "        text-align: right;\n",
       "    }\n",
       "</style>\n",
       "<table border=\"1\" class=\"dataframe\">\n",
       "  <thead>\n",
       "    <tr style=\"text-align: right;\">\n",
       "      <th></th>\n",
       "      <th>index</th>\n",
       "      <th>comment</th>\n",
       "      <th>cluster</th>\n",
       "      <th>lemma_comment_2</th>\n",
       "      <th>vector</th>\n",
       "      <th>sum_vec</th>\n",
       "    </tr>\n",
       "  </thead>\n",
       "  <tbody>\n",
       "    <tr>\n",
       "      <th>0</th>\n",
       "      <td>0</td>\n",
       "      <td>Хорошее колечко, получила 20 марта, ни один ка...</td>\n",
       "      <td>1</td>\n",
       "      <td>получать марта камушек выпадать носить либо по...</td>\n",
       "      <td>[0.0, 0.0, 0.0, 0.0, 0.0, 0.0, 0.0, 0.0, 0.0, ...</td>\n",
       "      <td>3.424584</td>\n",
       "    </tr>\n",
       "    <tr>\n",
       "      <th>1</th>\n",
       "      <td>1</td>\n",
       "      <td>Спустя месяц выпал камень при аккуратном ношен...</td>\n",
       "      <td>0</td>\n",
       "      <td>спустя месяц выпадать аккуратный ношение интер...</td>\n",
       "      <td>[0.0, 0.0, 0.0, 0.23655001273557275, 0.0, 0.0,...</td>\n",
       "      <td>3.278803</td>\n",
       "    </tr>\n",
       "    <tr>\n",
       "      <th>2</th>\n",
       "      <td>2</td>\n",
       "      <td>Очееень красивое колечко, очень жаль, что выпа...</td>\n",
       "      <td>0</td>\n",
       "      <td>очееень жаль выпадать стразик проходить месяц</td>\n",
       "      <td>[0.0, 0.0, 0.0, 0.0, 0.0, 0.0, 0.0, 0.0, 0.0, ...</td>\n",
       "      <td>2.424191</td>\n",
       "    </tr>\n",
       "    <tr>\n",
       "      <th>3</th>\n",
       "      <td>3</td>\n",
       "      <td>Очень красивое, изящное и нежное колечко, каму...</td>\n",
       "      <td>1</td>\n",
       "      <td>изящный нежный камушек сверкать</td>\n",
       "      <td>[0.0, 0.0, 0.0, 0.0, 0.0, 0.0, 0.0, 0.0, 0.0, ...</td>\n",
       "      <td>1.978025</td>\n",
       "    </tr>\n",
       "    <tr>\n",
       "      <th>4</th>\n",
       "      <td>4</td>\n",
       "      <td>Кольцо само по себе ну оч красивое, и камушки ...</td>\n",
       "      <td>2</td>\n",
       "      <td>камушек блестеть ойй прокол оооочень еле мизин...</td>\n",
       "      <td>[0.0, 0.0, 0.0, 0.0, 0.0, 0.0, 0.0, 0.0, 0.0, ...</td>\n",
       "      <td>3.131941</td>\n",
       "    </tr>\n",
       "  </tbody>\n",
       "</table>\n",
       "</div>"
      ],
      "text/plain": [
       "   index                                            comment  cluster  \\\n",
       "0      0  Хорошее колечко, получила 20 марта, ни один ка...        1   \n",
       "1      1  Спустя месяц выпал камень при аккуратном ношен...        0   \n",
       "2      2  Очееень красивое колечко, очень жаль, что выпа...        0   \n",
       "3      3  Очень красивое, изящное и нежное колечко, каму...        1   \n",
       "4      4  Кольцо само по себе ну оч красивое, и камушки ...        2   \n",
       "\n",
       "                                     lemma_comment_2  \\\n",
       "0  получать марта камушек выпадать носить либо по...   \n",
       "1  спустя месяц выпадать аккуратный ношение интер...   \n",
       "2      очееень жаль выпадать стразик проходить месяц   \n",
       "3                    изящный нежный камушек сверкать   \n",
       "4  камушек блестеть ойй прокол оооочень еле мизин...   \n",
       "\n",
       "                                              vector   sum_vec  \n",
       "0  [0.0, 0.0, 0.0, 0.0, 0.0, 0.0, 0.0, 0.0, 0.0, ...  3.424584  \n",
       "1  [0.0, 0.0, 0.0, 0.23655001273557275, 0.0, 0.0,...  3.278803  \n",
       "2  [0.0, 0.0, 0.0, 0.0, 0.0, 0.0, 0.0, 0.0, 0.0, ...  2.424191  \n",
       "3  [0.0, 0.0, 0.0, 0.0, 0.0, 0.0, 0.0, 0.0, 0.0, ...  1.978025  \n",
       "4  [0.0, 0.0, 0.0, 0.0, 0.0, 0.0, 0.0, 0.0, 0.0, ...  3.131941  "
      ]
     },
     "execution_count": 49,
     "metadata": {},
     "output_type": "execute_result"
    }
   ],
   "source": [
    "df_clust.head()"
   ]
  },
  {
   "cell_type": "markdown",
   "id": "hollow-amateur",
   "metadata": {
    "heading_collapsed": true
   },
   "source": [
    "# Calculation of cluster centers and distance to each comment"
   ]
  },
  {
   "cell_type": "code",
   "execution_count": 50,
   "id": "documented-feeding",
   "metadata": {
    "hidden": true
   },
   "outputs": [
    {
     "data": {
      "text/html": [
       "<div>\n",
       "<style scoped>\n",
       "    .dataframe tbody tr th:only-of-type {\n",
       "        vertical-align: middle;\n",
       "    }\n",
       "\n",
       "    .dataframe tbody tr th {\n",
       "        vertical-align: top;\n",
       "    }\n",
       "\n",
       "    .dataframe thead th {\n",
       "        text-align: right;\n",
       "    }\n",
       "</style>\n",
       "<table border=\"1\" class=\"dataframe\">\n",
       "  <thead>\n",
       "    <tr style=\"text-align: right;\">\n",
       "      <th></th>\n",
       "      <th>index</th>\n",
       "      <th>comment</th>\n",
       "      <th>cluster</th>\n",
       "      <th>lemma_comment_2</th>\n",
       "      <th>vector</th>\n",
       "      <th>sum_vec</th>\n",
       "      <th>centr</th>\n",
       "    </tr>\n",
       "  </thead>\n",
       "  <tbody>\n",
       "    <tr>\n",
       "      <th>0</th>\n",
       "      <td>0</td>\n",
       "      <td>Хорошее колечко, получила 20 марта, ни один ка...</td>\n",
       "      <td>1</td>\n",
       "      <td>получать марта камушек выпадать носить либо по...</td>\n",
       "      <td>[0.0, 0.0, 0.0, 0.0, 0.0, 0.0, 0.0, 0.0, 0.0, ...</td>\n",
       "      <td>3.424584</td>\n",
       "      <td>[-1.3010426069826053e-18, 0.0, 0.0, 0.01485564...</td>\n",
       "    </tr>\n",
       "    <tr>\n",
       "      <th>1</th>\n",
       "      <td>1</td>\n",
       "      <td>Спустя месяц выпал камень при аккуратном ношен...</td>\n",
       "      <td>0</td>\n",
       "      <td>спустя месяц выпадать аккуратный ношение интер...</td>\n",
       "      <td>[0.0, 0.0, 0.0, 0.23655001273557275, 0.0, 0.0,...</td>\n",
       "      <td>3.278803</td>\n",
       "      <td>[0.007369981596944172, 0.012449128860977711, -...</td>\n",
       "    </tr>\n",
       "    <tr>\n",
       "      <th>2</th>\n",
       "      <td>2</td>\n",
       "      <td>Очееень красивое колечко, очень жаль, что выпа...</td>\n",
       "      <td>0</td>\n",
       "      <td>очееень жаль выпадать стразик проходить месяц</td>\n",
       "      <td>[0.0, 0.0, 0.0, 0.0, 0.0, 0.0, 0.0, 0.0, 0.0, ...</td>\n",
       "      <td>2.424191</td>\n",
       "      <td>[0.007369981596944172, 0.012449128860977711, -...</td>\n",
       "    </tr>\n",
       "  </tbody>\n",
       "</table>\n",
       "</div>"
      ],
      "text/plain": [
       "   index                                            comment  cluster  \\\n",
       "0      0  Хорошее колечко, получила 20 марта, ни один ка...        1   \n",
       "1      1  Спустя месяц выпал камень при аккуратном ношен...        0   \n",
       "2      2  Очееень красивое колечко, очень жаль, что выпа...        0   \n",
       "\n",
       "                                     lemma_comment_2  \\\n",
       "0  получать марта камушек выпадать носить либо по...   \n",
       "1  спустя месяц выпадать аккуратный ношение интер...   \n",
       "2      очееень жаль выпадать стразик проходить месяц   \n",
       "\n",
       "                                              vector   sum_vec  \\\n",
       "0  [0.0, 0.0, 0.0, 0.0, 0.0, 0.0, 0.0, 0.0, 0.0, ...  3.424584   \n",
       "1  [0.0, 0.0, 0.0, 0.23655001273557275, 0.0, 0.0,...  3.278803   \n",
       "2  [0.0, 0.0, 0.0, 0.0, 0.0, 0.0, 0.0, 0.0, 0.0, ...  2.424191   \n",
       "\n",
       "                                               centr  \n",
       "0  [-1.3010426069826053e-18, 0.0, 0.0, 0.01485564...  \n",
       "1  [0.007369981596944172, 0.012449128860977711, -...  \n",
       "2  [0.007369981596944172, 0.012449128860977711, -...  "
      ]
     },
     "execution_count": 50,
     "metadata": {},
     "output_type": "execute_result"
    }
   ],
   "source": [
    "#calculation clust centers coordinats\n",
    "df_clust['centr'] = df_clust['cluster'].apply(lambda x: clust_centers[x])\n",
    "df_clust.head(3)"
   ]
  },
  {
   "cell_type": "code",
   "execution_count": 51,
   "id": "economic-disease",
   "metadata": {
    "hidden": true
   },
   "outputs": [
    {
     "data": {
      "text/html": [
       "<div>\n",
       "<style scoped>\n",
       "    .dataframe tbody tr th:only-of-type {\n",
       "        vertical-align: middle;\n",
       "    }\n",
       "\n",
       "    .dataframe tbody tr th {\n",
       "        vertical-align: top;\n",
       "    }\n",
       "\n",
       "    .dataframe thead th {\n",
       "        text-align: right;\n",
       "    }\n",
       "</style>\n",
       "<table border=\"1\" class=\"dataframe\">\n",
       "  <thead>\n",
       "    <tr style=\"text-align: right;\">\n",
       "      <th></th>\n",
       "      <th>index</th>\n",
       "      <th>comment</th>\n",
       "      <th>cluster</th>\n",
       "      <th>lemma_comment_2</th>\n",
       "      <th>vector</th>\n",
       "      <th>sum_vec</th>\n",
       "      <th>centr</th>\n",
       "      <th>dist</th>\n",
       "    </tr>\n",
       "  </thead>\n",
       "  <tbody>\n",
       "    <tr>\n",
       "      <th>0</th>\n",
       "      <td>0</td>\n",
       "      <td>Хорошее колечко, получила 20 марта, ни один ка...</td>\n",
       "      <td>1</td>\n",
       "      <td>получать марта камушек выпадать носить либо по...</td>\n",
       "      <td>[0.0, 0.0, 0.0, 0.0, 0.0, 0.0, 0.0, 0.0, 0.0, ...</td>\n",
       "      <td>3.424584</td>\n",
       "      <td>[-1.3010426069826053e-18, 0.0, 0.0, 0.01485564...</td>\n",
       "      <td>0.944140</td>\n",
       "    </tr>\n",
       "    <tr>\n",
       "      <th>1</th>\n",
       "      <td>1</td>\n",
       "      <td>Спустя месяц выпал камень при аккуратном ношен...</td>\n",
       "      <td>0</td>\n",
       "      <td>спустя месяц выпадать аккуратный ношение интер...</td>\n",
       "      <td>[0.0, 0.0, 0.0, 0.23655001273557275, 0.0, 0.0,...</td>\n",
       "      <td>3.278803</td>\n",
       "      <td>[0.007369981596944172, 0.012449128860977711, -...</td>\n",
       "      <td>0.966872</td>\n",
       "    </tr>\n",
       "    <tr>\n",
       "      <th>2</th>\n",
       "      <td>2</td>\n",
       "      <td>Очееень красивое колечко, очень жаль, что выпа...</td>\n",
       "      <td>0</td>\n",
       "      <td>очееень жаль выпадать стразик проходить месяц</td>\n",
       "      <td>[0.0, 0.0, 0.0, 0.0, 0.0, 0.0, 0.0, 0.0, 0.0, ...</td>\n",
       "      <td>2.424191</td>\n",
       "      <td>[0.007369981596944172, 0.012449128860977711, -...</td>\n",
       "      <td>0.972166</td>\n",
       "    </tr>\n",
       "    <tr>\n",
       "      <th>3</th>\n",
       "      <td>3</td>\n",
       "      <td>Очень красивое, изящное и нежное колечко, каму...</td>\n",
       "      <td>1</td>\n",
       "      <td>изящный нежный камушек сверкать</td>\n",
       "      <td>[0.0, 0.0, 0.0, 0.0, 0.0, 0.0, 0.0, 0.0, 0.0, ...</td>\n",
       "      <td>1.978025</td>\n",
       "      <td>[-1.3010426069826053e-18, 0.0, 0.0, 0.01485564...</td>\n",
       "      <td>0.900827</td>\n",
       "    </tr>\n",
       "    <tr>\n",
       "      <th>4</th>\n",
       "      <td>4</td>\n",
       "      <td>Кольцо само по себе ну оч красивое, и камушки ...</td>\n",
       "      <td>2</td>\n",
       "      <td>камушек блестеть ойй прокол оооочень еле мизин...</td>\n",
       "      <td>[0.0, 0.0, 0.0, 0.0, 0.0, 0.0, 0.0, 0.0, 0.0, ...</td>\n",
       "      <td>3.131941</td>\n",
       "      <td>[-1.3010426069826053e-18, 0.03759752483382011,...</td>\n",
       "      <td>0.935140</td>\n",
       "    </tr>\n",
       "  </tbody>\n",
       "</table>\n",
       "</div>"
      ],
      "text/plain": [
       "   index                                            comment  cluster  \\\n",
       "0      0  Хорошее колечко, получила 20 марта, ни один ка...        1   \n",
       "1      1  Спустя месяц выпал камень при аккуратном ношен...        0   \n",
       "2      2  Очееень красивое колечко, очень жаль, что выпа...        0   \n",
       "3      3  Очень красивое, изящное и нежное колечко, каму...        1   \n",
       "4      4  Кольцо само по себе ну оч красивое, и камушки ...        2   \n",
       "\n",
       "                                     lemma_comment_2  \\\n",
       "0  получать марта камушек выпадать носить либо по...   \n",
       "1  спустя месяц выпадать аккуратный ношение интер...   \n",
       "2      очееень жаль выпадать стразик проходить месяц   \n",
       "3                    изящный нежный камушек сверкать   \n",
       "4  камушек блестеть ойй прокол оооочень еле мизин...   \n",
       "\n",
       "                                              vector   sum_vec  \\\n",
       "0  [0.0, 0.0, 0.0, 0.0, 0.0, 0.0, 0.0, 0.0, 0.0, ...  3.424584   \n",
       "1  [0.0, 0.0, 0.0, 0.23655001273557275, 0.0, 0.0,...  3.278803   \n",
       "2  [0.0, 0.0, 0.0, 0.0, 0.0, 0.0, 0.0, 0.0, 0.0, ...  2.424191   \n",
       "3  [0.0, 0.0, 0.0, 0.0, 0.0, 0.0, 0.0, 0.0, 0.0, ...  1.978025   \n",
       "4  [0.0, 0.0, 0.0, 0.0, 0.0, 0.0, 0.0, 0.0, 0.0, ...  3.131941   \n",
       "\n",
       "                                               centr      dist  \n",
       "0  [-1.3010426069826053e-18, 0.0, 0.0, 0.01485564...  0.944140  \n",
       "1  [0.007369981596944172, 0.012449128860977711, -...  0.966872  \n",
       "2  [0.007369981596944172, 0.012449128860977711, -...  0.972166  \n",
       "3  [-1.3010426069826053e-18, 0.0, 0.0, 0.01485564...  0.900827  \n",
       "4  [-1.3010426069826053e-18, 0.03759752483382011,...  0.935140  "
      ]
     },
     "execution_count": 51,
     "metadata": {},
     "output_type": "execute_result"
    }
   ],
   "source": [
    "#calculation distance from clust to centers to each comment\n",
    "from scipy.spatial import distance\n",
    "df_clust['dist'] = df_clust['index'].apply(lambda x: distance.euclidean(df_clust['centr'][x], df_clust['vector'][x]))\n",
    "df_clust.head()"
   ]
  },
  {
   "cell_type": "markdown",
   "id": "41c16546",
   "metadata": {
    "heading_collapsed": true
   },
   "source": [
    "# Functions (defining part of speech, primary list of topics and final topic  for each cluster)"
   ]
  },
  {
   "cell_type": "code",
   "execution_count": 52,
   "id": "238742d8",
   "metadata": {
    "hidden": true
   },
   "outputs": [],
   "source": [
    "#func which define part of speech (pos)\n",
    "def pos_define(x):\n",
    "    m = Mystem()\n",
    "    w = m.analyze(x)[0]\n",
    "    pos = w['analysis'][0]['gr'].split(',')[0]\n",
    "    pos = pos.split('=')[0].strip()\n",
    "    return pos"
   ]
  },
  {
   "cell_type": "code",
   "execution_count": 53,
   "id": "checked-scroll",
   "metadata": {
    "hidden": true
   },
   "outputs": [],
   "source": [
    "#final topic list forming\n",
    "def final_topics(df):\n",
    "    final_topics = []\n",
    "    for x in df.index:\n",
    "        if len(final_topics)<5:\n",
    "            if pos_define(x) not in ['V','ADV'] and (x not in final_topics):\n",
    "                final_topics.append(x)\n",
    "        else: break\n",
    "    return final_topics"
   ]
  },
  {
   "cell_type": "code",
   "execution_count": 54,
   "id": "decimal-ontario",
   "metadata": {
    "hidden": true
   },
   "outputs": [],
   "source": [
    "#primary topic list defining\n",
    "def clust_topics_define(df):\n",
    "    clust_num = df['cluster'].nunique()\n",
    "    \n",
    "    clust_topics = {}\n",
    "    \n",
    "    for i in range(clust_num):\n",
    "        topl = []\n",
    "        vectorizer = TfidfVectorizer(min_df=2)\n",
    "        df_filt = df[df['cluster'] == i]['lemma_comment_2']\n",
    "        vectorizer.fit_transform(df_filt)\n",
    "        \n",
    "        idf = dict(zip(vectorizer.get_feature_names(), vectorizer.idf_))\n",
    "        idf = pd.DataFrame(columns=['idf']).from_dict(\n",
    "                    dict(idf), orient='index')\n",
    "        idf.columns = ['idf']\n",
    "        idf = pd.DataFrame(idf.sort_values(by=['idf'], ascending=True), columns = ['idf'])\n",
    "        topl = final_topics(idf)\n",
    "        for j in topl:\n",
    "            if j not in clust_topics.values():\n",
    "                clust_topics[i] = j\n",
    "                break\n",
    "    \n",
    "    return list(clust_topics.values())"
   ]
  },
  {
   "cell_type": "markdown",
   "id": "0daed39f",
   "metadata": {},
   "source": [
    "# Final topics and comments for each topic"
   ]
  },
  {
   "cell_type": "code",
   "execution_count": 55,
   "id": "objective-minutes",
   "metadata": {},
   "outputs": [
    {
     "data": {
      "text/plain": [
       "['фианит', 'бриллиант', 'единственный', 'скидка', 'аккуратный']"
      ]
     },
     "execution_count": 55,
     "metadata": {},
     "output_type": "execute_result"
    }
   ],
   "source": [
    "#final 5 topics for analyzed product\n",
    "clust_topics_define(df_clust)"
   ]
  },
  {
   "cell_type": "code",
   "execution_count": 56,
   "id": "skilled-musician",
   "metadata": {},
   "outputs": [
    {
     "data": {
      "text/plain": [
       "['Кольцо супер,смотрится как белое золото с бриллиантами, все сверкает на солнце',\n",
       " 'Очень красивое, изящное и нежное колечко, камушки сверкают',\n",
       " 'Очень красивое. Нежное. Камушки на солнце играют!!! Спасибо WB и Sokolov',\n",
       " 'Кольцо прелестное, размер соответствует.\\nВыглядит очень достойно, на солнце сверкает 🥰😍',\n",
       " 'Очень красивое, смотрится дорого (есть с чем сравнить, есть кольцо платина с бриллиантом, очень похожее, только с одим большим камнем). Не знаю на долго ли камень правда... не очень надежное крепление. Камень в меру большой, сверкает) В размер.мне на средний палец подошел. На него и брала)',\n",
       " 'Колечко прелесть, нежное. На ухоженных длинных пальчиках смотрится изумительно. Оставила, хоть и большеватое. (Да, на белое золото с бриллиантами НЕ ТЯНЕТ, а вот для серебра  ОТЛИЧНО  и явно на бижутерию не смахивает, как некоторые пишут)',\n",
       " 'Хорошее колечко, получила 20 марта, ни один камушек не выпал. Но носить его надо одно, либо с похожими кольцами. Когда я одеваю обручальное с бриллиантами и это, то сразу видно что стекляшка 😀',\n",
       " 'Выписывала три кольца: это, арт. 2577730, арт. 2577737. Больше понравилось как село и смотрится именно данное кольцо. Да, оно небольшое, но на длинных и тонких пальцах смотрится очень нежно засчет небольшого камня.  Два других не очень понравились из-за большого размера камня, не совсем естественно смотрелось. Данное кольцо хорошо подошло к серьгам арт. 2538849. Получился красивый нежный комплект. Качество у кольца отличное, камни переливаются.  Кольцо идет размер в размер. На 16,5 идеально подошел 16,5. Хотя широкие кольца у Соколова с черной и белой эмалью брала 17 размер.',\n",
       " 'Очень красивое необычное кольцо. Высокое, сверкает. Самодостаточное, одного кольца на руке достаточно - пример на фото, аккуратная дорожка из фианитов 6713932 рядом не смотрится. Размер соответствует. На пальце не ощущается.',\n",
       " 'Да!!! Такой завышенный каст может быть только у бриллианта))) Обошлось мне в 525 рублей. Выглядит дорого, богато. Дочка в восторге!']"
      ]
     },
     "execution_count": 56,
     "metadata": {},
     "output_type": "execute_result"
    }
   ],
   "source": [
    "#first 10 comments for selected topic\n",
    "num = 1\n",
    "df_num = list(df_clust[df_clust['cluster'] == num].sort_values(by = ['dist'],ascending = True)['comment'].head(10))\n",
    "df_num"
   ]
  },
  {
   "cell_type": "code",
   "execution_count": null,
   "id": "f2fff24b",
   "metadata": {},
   "outputs": [],
   "source": []
  }
 ],
 "metadata": {
  "kernelspec": {
   "display_name": "Python 3",
   "language": "python",
   "name": "python3"
  },
  "language_info": {
   "codemirror_mode": {
    "name": "ipython",
    "version": 3
   },
   "file_extension": ".py",
   "mimetype": "text/x-python",
   "name": "python",
   "nbconvert_exporter": "python",
   "pygments_lexer": "ipython3",
   "version": "3.8.6"
  },
  "varInspector": {
   "cols": {
    "lenName": 16,
    "lenType": 16,
    "lenVar": 40
   },
   "kernels_config": {
    "python": {
     "delete_cmd_postfix": "",
     "delete_cmd_prefix": "del ",
     "library": "var_list.py",
     "varRefreshCmd": "print(var_dic_list())"
    },
    "r": {
     "delete_cmd_postfix": ") ",
     "delete_cmd_prefix": "rm(",
     "library": "var_list.r",
     "varRefreshCmd": "cat(var_dic_list()) "
    }
   },
   "types_to_exclude": [
    "module",
    "function",
    "builtin_function_or_method",
    "instance",
    "_Feature"
   ],
   "window_display": false
  }
 },
 "nbformat": 4,
 "nbformat_minor": 5
}
